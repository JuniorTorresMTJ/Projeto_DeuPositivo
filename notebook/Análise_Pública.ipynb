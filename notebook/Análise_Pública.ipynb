{
  "nbformat": 4,
  "nbformat_minor": 0,
  "metadata": {
    "colab": {
      "name": "Análise_Pública.ipynb",
      "provenance": [],
      "collapsed_sections": [
        "Q1jJ_n70glsB",
        "VTKzazTx_7rc",
        "vmJo6JEGACmu",
        "EeJ1_5M7Q7zG",
        "axQIB5aKZP3z",
        "jr9krswuWUri"
      ],
      "authorship_tag": "ABX9TyPvfhaR4HUWpT6jd88Km/ul",
      "include_colab_link": true
    },
    "kernelspec": {
      "name": "python3",
      "display_name": "Python 3"
    },
    "language_info": {
      "name": "python"
    }
  },
  "cells": [
    {
      "cell_type": "markdown",
      "metadata": {
        "id": "view-in-github",
        "colab_type": "text"
      },
      "source": [
        "<a href=\"https://colab.research.google.com/github/JuniorTorresMTJ/temp/blob/main/notebook/An%C3%A1lise_P%C3%BAblica.ipynb\" target=\"_parent\"><img src=\"https://colab.research.google.com/assets/colab-badge.svg\" alt=\"Open In Colab\"/></a>"
      ]
    },
    {
      "cell_type": "markdown",
      "metadata": {
        "id": "Q1jJ_n70glsB"
      },
      "source": [
        "***\n",
        "***\n",
        "#ANÁLISE DE DADOS ABERTOS DO SUS\n",
        "***\n",
        "***"
      ]
    },
    {
      "cell_type": "markdown",
      "metadata": {
        "id": "04pSnV2cKmln"
      },
      "source": [
        "<img src=\"https://i.imgur.com/YJHQX5W.png\" alt=\"SUS\" width= \"750\"/>"
      ]
    },
    {
      "cell_type": "markdown",
      "metadata": {
        "id": "T6EXiQiFiwAr"
      },
      "source": [
        "O VÍRUS DO PRECONCEITO QUE MATA MAIS QUE A DOENÇA"
      ]
    },
    {
      "cell_type": "markdown",
      "metadata": {
        "id": "6crlIqYffZJP"
      },
      "source": [
        "***\n",
        "#OBJETIVO\n",
        "\n",
        "***"
      ]
    },
    {
      "cell_type": "markdown",
      "metadata": {
        "id": "iEgoO0EsmZNg"
      },
      "source": [
        "Esse projeto tem como objetivo analisar os dados abertos da saúde disponiveis no [**DATASUS**](http://www2.datasus.gov.br/DATASUS/index.php?area=0202&id=11633&VObj=http://tabnet.datasus.gov.br/cgi/deftohtm.exe?sih/cnv/qi) (Departamento de Informática do Sistema de Saúde do Brasil)."
      ]
    },
    {
      "cell_type": "markdown",
      "metadata": {
        "id": "TB_woawbfcu2"
      },
      "source": [
        "***\n",
        "#INTRODUÇÃO\n",
        "***"
      ]
    },
    {
      "cell_type": "markdown",
      "metadata": {
        "id": "VTKzazTx_7rc"
      },
      "source": [
        "##SUS - Sistema Único de Saúde"
      ]
    },
    {
      "cell_type": "markdown",
      "metadata": {
        "id": "jB-IQ5WiztDu"
      },
      "source": [
        "<img src=\"https://logodownload.org/wp-content/uploads/2017/02/sus-logo-0.png\" alt=\"SUS\" width= \"250\"/>\n",
        "\n"
      ]
    },
    {
      "cell_type": "markdown",
      "metadata": {
        "id": "MbDgh4xUoiUK"
      },
      "source": [
        "Creio que você sabe o que é o **SUS** mesmo que não use diariamente ou nunca tenha usado na vida, pois aqui no Brasil esse sistema é muito conhecido e muito utilizado pelas pessoas que possuem uma **baixa renda familiar** ou pessoas que não têm condições de contratar um **plano de saúde**. SUS significa: **Sistema de Único de Saude** e é a denominação do sistema público de saúde brasileira. \n",
        "\n",
        "\n",
        "Todos os cidadãos brasileiros possuem o direito, desde o nascimento, aos serviços de saúde gratuitos. **SUS** foi criado em 1988 no governo do Presidente do Brasil José Sarney e hoje é um dos **maiores sistemas públicos de saúde do mundo**, esse sistema é o **único** a garantir assistência **integral** e completamente **gratuita**.\n",
        "\n",
        "O **Programa Nacional de Imunização** (PNI) é responsável **98% **do mercado de disponibilização de **vacinas** em solo brasileiro, esse programa é promovido pelo **SUS**. As vacinas são disponibilizadas **gratuitamente** para combater diversas **doenças** no país.\n",
        "\n",
        "Além disso, o sistema auxilia gratuitamente os brasileiros vítimas do virus **HIV**(do inglês Human Immunodeficiency Virus), que possuem problemas **renais crônicos, tuberculose, hanseníase e cancer.**\n",
        "\n",
        "Todos os sistemas tem suas falhas, mas graças ao SUS pessoas que não possuem **condições de pagar** por remédios, por vacinas, por consultas em médicos especializados, contratar um convênio,fazer exames caros etc, conseguem ter acesso a esses benefícios de graça.\n",
        "\n",
        "\n",
        "*   [Apesar de problemas, SUS é referencia em saúde pública](https://www1.folha.uol.com.br/seminariosfolha/2018/04/apesar-de-problemas-sus-e-referencia-em-saude-publica-dizem-especialistas.shtml)\n",
        "*   [Dez razões para defender o SUS](https://mst.org.br/2020/03/20/10-razoes-para-defender-o-sus/)\n",
        "\n",
        "*   [7 a cada 10 brasileiros dependem do SUS](https://cesrj.com/2020/09/04/sem-plano-privado-7-em-cada-10-brasileiros-dependem-do-sistema-unico-de-saude/)\n",
        "*   [Antes do SUS, saúde era para poucos](https://www12.senado.leg.br/emdiscussao/edicoes/saude/contexto/antes-do-sus-saude-era-para-poucos)\n",
        "*   [150 milhões de brasileiros dependem do SUS](https://summitsaude.estadao.com.br/desafios-no-brasil/acesso-a-saude-150-milhoes-de-brasileiros-dependem-do-sus/)\n",
        "\n",
        "Apesar de todos os defeitos, os pobres precisam do SUS, precisamos sair de nossas bolhas e olhar ao nosso redor para compreender, ter empatia e dizer:\n",
        "\n",
        "\n",
        "<img src=\"https://media2.giphy.com/media/DqxbHsZEXaNCYZ0AAS/giphy.gif?cid=ecf05e4725ybst0yahsfcqohsjlekh2ye3x2x22nqqv6911n&rid=giphy.gif&ct=s\" alt=\"Viva o SUS\" width=\"300\"/>\n",
        "\n",
        "\n",
        "\n"
      ]
    },
    {
      "cell_type": "markdown",
      "metadata": {
        "id": "vmJo6JEGACmu"
      },
      "source": [
        "##Dados Abertos"
      ]
    },
    {
      "cell_type": "markdown",
      "metadata": {
        "id": "HJ3pG44GFWWX"
      },
      "source": [
        "<img src=\"https://media4.giphy.com/media/aU1laHdrlRvcpk7tMS/giphy.gif?cid=ecf05e47gkbajfj6xono0qnxbbfwzv729l9sfiumozap9p57&rid=giphy.gif&ct=s\" alt=\"open\" width=\"100\"/>\n",
        "\n"
      ]
    },
    {
      "cell_type": "markdown",
      "metadata": {
        "id": "qWD9Q5dlC7HA"
      },
      "source": [
        "**Dados abertos** é um termo que vem ganhando muita **popularidade** no movimento de **transparência e governo aberto** no mundo todo. Essa abertura segue o princípio do **Governo Aberto**: tratar o acesso à **informação pública** como regra, não como exceção.\n",
        "\n",
        "Para que um conjunto de dados possa ser considerado **aberto**, ele precisa reunir no **mínimo 3** caracteríscas abaixo:\n",
        "\n",
        "1.   Disponibilidade e acesso\n",
        "2.   Reutilização e redistribuição\n",
        "3.   Participação universal\n",
        "\n",
        "Essas características são resumidas em leis sugeridas pelo ativista dos dados abertos **David Eaves**.\n",
        "\n",
        "Todo dado público **deve** ser aberto, mas **nem todo dado é público**. Na legislação não são dados públicos os dados **sigilosos**, dados que possam comprometer a **segurança** **nacional** e os dados que possam identificar os **indivíduos**.\n",
        "\n",
        "fonte: [Guia de Dados Abertos](https://nic.br/media/docs/publicacoes/13/Guia_Dados_Abertos.pdf)"
      ]
    },
    {
      "cell_type": "markdown",
      "metadata": {
        "id": "eZyjK8AaAVFV"
      },
      "source": [
        "Segundo o site [dados.gov](https://dados.gov.br/pagina/dados-abertos), \"dados são abertos quando qualquer pessoa pode livremente acessá-los, utilizá-los, modificá-los e compartilhá-los para qualquer finalidade, estando sujeito a, no máximo, a exigências que visem preservar sua proveniência e sua abertura.\"\n",
        "\n",
        "Trabalhar com dados abertos é um grande desafio, pois muitas vezes os dados estão sujos, faltando informações, desatualizados, difícil acesso, base incompleta e entre outros problemas. Justamente por esses impecilhos, esse projeto tem como objetivo estudar os dados abertos da saúde tirados do **DATASUS**.\n",
        "\n",
        "Você verá que preciso limpar, organizar, manipular diversas vezes esses dados para que eu consiga extrair informações e criar visualizações.\n",
        "\n",
        "* [Dados abertos nas capitais são incompletos e desatualizados](https://exame.com/brasil/dados-abertos-nas-capitais-sao-incompletos-e-desatualizados/)\n",
        "\n",
        "* [Dificuldade de acesso a dados públicos sobre Salvador](https://www.mpba.mp.br/noticia/42310)"
      ]
    },
    {
      "cell_type": "markdown",
      "metadata": {
        "id": "GYfvw-0YKRqo"
      },
      "source": [
        "<img src=\"https://media3.giphy.com/media/U6G6RDAr37IZGhoSfM/giphy.gif?cid=ecf05e47oewus8j5dvilw20mh30fpk441w8g83z6xqtf68xb&rid=giphy.gif&ct=s\" alt=\"clean\" width=\"200\"/>\n"
      ]
    },
    {
      "cell_type": "markdown",
      "metadata": {
        "id": "EeJ1_5M7Q7zG"
      },
      "source": [
        "## AIDS = HIV?"
      ]
    },
    {
      "cell_type": "markdown",
      "metadata": {
        "id": "yg_x1ivXRD80"
      },
      "source": [
        "Não, os significados são:\n",
        "-  **AIDS** significa: *Acquired Immune Deficiency Syndrome*, em português Síndrome da Imunodeficiência Adquirida;\n",
        "-  **HIV** significa: *Human Immunodeficiência Virus*,  em português Virus da imunodeficiência humana.\n",
        "\n",
        "Já pelo significados das siglas já conseguimos distinguir uma da outra.Infelizmente, hoje, a população ainda não entendeu que o ter o virus no corpo não é a mesma coisa que ter a doença. \n",
        "\n",
        "Ter HIV no organismo, não é a mesma coisa que ter AIDS, hoje possui muitos soro positivos (portadores do HIV) que vivem anos sem apresentar sintomas e sem desenvolver a doença. \n",
        "\n",
        "O virus pode ser transmitido pelo contato com o sangue, sêmen ou fluidos vaginais infectados. Algumas semanas após a contaminação podem ocorrer sintomas semelhantes aos da gripe, como dor de garganta, fadiga, febre. \n",
        "\n",
        "Geralmente costuma ser assintomática no começo, mas quando evolue para AIDS os sintomas incluem perda de peso , sudorese noturn e infecções recorrentes. \n",
        "\n",
        "Hoje, ainda não existe cura para a AIDS, mas temos muitos estudos sendo realizados: \n",
        "\n",
        "- [Cientistas descobrem anticorpos](https://olhardigital.com.br/2021/05/22/medicina-e-saude/cientistas-descobrem-anticorpos-podem-ser-a-chave-para-a-vacina-contra-hiv/) \n",
        "\n",
        "- [Injeção mais eficaz que coquetel](https://g1.globo.com/ciencia-e-saude/noticia/2020/11/10/esquema-de-prevencao-do-hiv-com-injecoes-e-mais-eficaz-do-que-comprimidos-em-mulheres-aponta-estudo-com-3-mil-voluntarias.ghtml)\n",
        "- [Brasileiro curado da AIDS?](https://g1.globo.com/bemestar/podcast/noticia/2020/07/08/bem-estar-46-o-paciente-brasileiro-que-pode-ter-alcancado-a-cura-da-aids.ghtmlhttps://)\n",
        "\n",
        "- [Coquetel eliminou o vírus da AIDS?](https://g1.globo.com/bemestar/aids/noticia/2020/07/07/pesquisa-brasileira-apresenta-primeiro-medicamento-com-chance-de-eliminar-o-hiv.ghtml)"
      ]
    },
    {
      "cell_type": "markdown",
      "metadata": {
        "id": "axQIB5aKZP3z"
      },
      "source": [
        "###Indectável  = Intransmissível"
      ]
    },
    {
      "cell_type": "markdown",
      "metadata": {
        "id": "0AvbI-EkbFRk"
      },
      "source": [
        "<img src=\"https://static.preparaenem.com/conteudo_legenda/b50d2ed0af362a00922a2dec70b2f0ce.jpg\" alt=\"coquetel\" width=\"500\"/>\n"
      ]
    },
    {
      "cell_type": "markdown",
      "metadata": {
        "id": "oK1vtsy5aX1P"
      },
      "source": [
        "O coquetel que os portadores do HIV/Aids tomam todos os dias, torna o vírus indectável e estudos indicam que quando um portador está indectável ele não transmite mais o HIV para outras pessoas. Portanto, pessoa soropositiva poderá ter relações sem preservativos sem que o HIV seja transmitido para o parceiro. "
      ]
    },
    {
      "cell_type": "markdown",
      "metadata": {
        "id": "nxp-peDybTf_"
      },
      "source": [
        "<img src=\"https://ninecircles.ca/wp-content/uploads/2018/08/uu.jpg\" alt=\"coquetel\" width=\"300\"/>\n"
      ]
    },
    {
      "cell_type": "code",
      "metadata": {
        "id": "tSvewA2Ha8d4"
      },
      "source": [
        ""
      ],
      "execution_count": null,
      "outputs": []
    },
    {
      "cell_type": "markdown",
      "metadata": {
        "id": "U9o7v_-1aXov"
      },
      "source": [
        ""
      ]
    },
    {
      "cell_type": "code",
      "metadata": {
        "id": "nyCCpndJZy4Y"
      },
      "source": [
        ""
      ],
      "execution_count": null,
      "outputs": []
    },
    {
      "cell_type": "markdown",
      "metadata": {
        "id": "g6Smi1xUZYmm"
      },
      "source": [
        "<img src=\"http://giv.org.br/img/hiv-indetectavel=intransmissivel.png\" alt=\"I_I\"/>\n"
      ]
    },
    {
      "cell_type": "markdown",
      "metadata": {
        "id": "jr9krswuWUri"
      },
      "source": [
        "###Linha do tempo do HIV"
      ]
    },
    {
      "cell_type": "markdown",
      "metadata": {
        "id": "in5v8VukVpZE"
      },
      "source": [
        "<img src=\"https://www.drakeillafreitas.com.br/wp-content/uploads/2018/01/LInha-do-tempo-HIV.jpg\" alt=\"open\" width=\"900\"/>\n",
        "\n"
      ]
    },
    {
      "cell_type": "markdown",
      "metadata": {
        "id": "9OYmOPzTWaBz"
      },
      "source": [
        " - 1.981 – **Primeiros casos reconhecidos** <br>\n",
        "Em junho, é publicado em revista médica, o primeiro caso de morte em um homem gay jovem por pneumonia<br>\n",
        "Tratava-se de uma pneumonia grave causada por um fungo, capaz de causar doença apenas em pessoas com imunidade muito baixa."
      ]
    },
    {
      "cell_type": "markdown",
      "metadata": {
        "id": "eb1EYelMWy-p"
      },
      "source": [
        "-  1.982 – **o nome “AIDS”** <br>\n",
        "A Síndrome recebe o nome de Síndrome da Imunodeficiência Adquirida – AIDS. <br>\n",
        "Cientistas suspeitam que a transmissão ocorra por sangue contaminado.<br>\n",
        "Ainda não se sabe o que causa a síndrome<br>\n",
        "Confirmados os primeiros casos de AIDS no Brasil<br>\n",
        "Chamada de Doença dos 5 Hs: Homossexuais, Hemofílicos, Haitianos, Heroinômanos (usuários de heroína injetável), Hookers (profissionais do sexo em inglês)"
      ]
    },
    {
      "cell_type": "markdown",
      "metadata": {
        "id": "x5m7BSKWXGa2"
      },
      "source": [
        " - 1.983 – **A causa é um vírus**<br>\n",
        "Isolado vírus em glândula de paciente com AIDS <br>\n",
        "Primeiramente recebe o nome de Vírus Associado a linfadenopatia – LAV<br>\n",
        "Primeira notificação do vírus em crianças<br>\n",
        "Brasil identifica o seu primeiro caso de transmissão do vírus em mulher"
      ]
    },
    {
      "cell_type": "markdown",
      "metadata": {
        "id": "cii7MyUgXV0x"
      },
      "source": [
        " - 1.986 – **Nome oficial** <br>\n",
        "O vírus recebe oficialmente o nome de Vírus da Imunodeficiência Humana – HIV<br>\n",
        "Presidente Reagan usa publicamente a palavra AIDS pela primeira vez."
      ]
    },
    {
      "cell_type": "markdown",
      "metadata": {
        "id": "BSBK6FazXmNr"
      },
      "source": [
        "- 1.996-97 – **Inicio da Era TARV** (Tratamento Antirretroviral)<br>\n",
        "Inicio do uso do coquetel (zidovudina + Didanosina) para tratamento do HIV. <br>\n",
        "O tratamento é capaz de reduzir a taxa viral a níveis quase indetectáveis no sangue e reduz as mortes por HIV em 40%. <br>\n"
      ]
    },
    {
      "cell_type": "markdown",
      "metadata": {
        "id": "6Z51DugAX682"
      },
      "source": [
        "- 2016-17 – **PrEP no Brasil / U=U** <br>\n",
        "Anvisa libera o uso do Truvada (medicação usada para a Profiláxia Pré-exposição)  no Brasil que passa a ser disponibilizada pelo SUS <br>\n",
        "CDC – Centro de Controle de doenças dos Estados Unidos, define que pessoas com Carga Viral indetectável não transmitem o vírus, mesmo em relações sexuais sem preservativo. É a campanha U=U (undetectable is untransmittable) ou seja, I=I (Indetectável é igual a Intransmissível) "
      ]
    },
    {
      "cell_type": "markdown",
      "metadata": {
        "id": "xkubyglD2n80"
      },
      "source": [
        "***\n",
        "#ESCOPO DO PROJETO\n",
        "***"
      ]
    },
    {
      "cell_type": "markdown",
      "metadata": {
        "id": "clnxM3icfk2e"
      },
      "source": [
        "***\n",
        "#IMPORTAÇÃO DAS BIBLIOTECAS\n",
        "***"
      ]
    },
    {
      "cell_type": "code",
      "metadata": {
        "id": "t4xl6ai_7L3T"
      },
      "source": [
        "import pandas            as pd\n",
        "import numpy             as np\n",
        "import matplotlib.pyplot as plt\n",
        "import matplotlib.ticker as ticker\n",
        "import seaborn           as sns"
      ],
      "execution_count": null,
      "outputs": []
    },
    {
      "cell_type": "markdown",
      "metadata": {
        "id": "HxlV9nAHfpLw"
      },
      "source": [
        "***\n",
        "#CARREGAMENTO DAS BASES\n",
        "***"
      ]
    },
    {
      "cell_type": "markdown",
      "metadata": {
        "id": "-8sBh_JAfts2"
      },
      "source": [
        "***\n",
        "#ARRUMANDO AS BASES\n",
        "***"
      ]
    },
    {
      "cell_type": "markdown",
      "metadata": {
        "id": "j3kn4NnufyFW"
      },
      "source": [
        "***\n",
        "#LEVANTAMENTO DE HIPÓTESES\n",
        "***"
      ]
    },
    {
      "cell_type": "markdown",
      "metadata": {
        "id": "zWPisrxSg61e"
      },
      "source": [
        "***\n",
        "#CONCLUSÃO\n",
        "\n",
        "***"
      ]
    }
  ]
}