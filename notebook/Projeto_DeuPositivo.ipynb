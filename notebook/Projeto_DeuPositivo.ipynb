{
  "nbformat": 4,
  "nbformat_minor": 0,
  "metadata": {
    "colab": {
      "name": "Projeto_DeuPositivo.ipynb",
      "provenance": [],
      "collapsed_sections": [
        "VTKzazTx_7rc",
        "vmJo6JEGACmu",
        "jr9krswuWUri"
      ],
      "authorship_tag": "ABX9TyOKgfTW0M593gjp7Yow9YYW",
      "include_colab_link": true
    },
    "kernelspec": {
      "name": "python3",
      "display_name": "Python 3"
    },
    "language_info": {
      "name": "python"
    }
  },
  "cells": [
    {
      "cell_type": "markdown",
      "metadata": {
        "id": "view-in-github",
        "colab_type": "text"
      },
      "source": [
        "<a href=\"https://colab.research.google.com/github/JuniorTorresMTJ/Projeto_DeuPositivo/blob/main/notebook/Projeto_DeuPositivo.ipynb\" target=\"_parent\"><img src=\"https://colab.research.google.com/assets/colab-badge.svg\" alt=\"Open In Colab\"/></a>"
      ]
    },
    {
      "cell_type": "markdown",
      "metadata": {
        "id": "Q1jJ_n70glsB"
      },
      "source": [
        "***\n",
        "***\n",
        "#ANÁLISE DE DADOS ABERTOS DO SUS\n",
        "***\n",
        "***"
      ]
    },
    {
      "cell_type": "markdown",
      "metadata": {
        "id": "04pSnV2cKmln"
      },
      "source": [
        "<img src=\"https://i.imgur.com/YJHQX5W.png\" alt=\"SUS\" width= \"750\"/>"
      ]
    },
    {
      "cell_type": "markdown",
      "metadata": {
        "id": "T6EXiQiFiwAr"
      },
      "source": [
        "O PRECONCEITO QUE MATA MAIS QUE A DOENÇA"
      ]
    },
    {
      "cell_type": "markdown",
      "metadata": {
        "id": "5JB9TvqU2oPm"
      },
      "source": [
        "Ouvir/ler **deu positivo**, dependendo do seu repertório, suponho que você deve estar pensando que eu estou falando de gravidez né? Para muitos é uma benção e para outros um Deus me livre, mas não, cerca de 920 mil **pessoas** vivem com **HIV ** no Brasil e quando essas pessoas fizeram o teste elas ouviram: [Deu Positivo](https://github.com/JuniorTorresMTJ/Projeto_DeuPositivo). "
      ]
    },
    {
      "cell_type": "markdown",
      "metadata": {
        "id": "6crlIqYffZJP"
      },
      "source": [
        "***\n",
        "#OBJETIVO\n",
        "\n",
        "***"
      ]
    },
    {
      "cell_type": "markdown",
      "metadata": {
        "id": "iEgoO0EsmZNg"
      },
      "source": [
        "Esse projeto tem como objetivo analisar os dados abertos da saúde disponiveis no [**DATASUS**](http://www2.datasus.gov.br/DATASUS/index.php?area=0202&id=11633&VObj=http://tabnet.datasus.gov.br/cgi/deftohtm.exe?sih/cnv/qi) (Departamento de Informática do Sistema de Saúde do Brasil) sobre novos casos de HIV/AIDS."
      ]
    },
    {
      "cell_type": "markdown",
      "metadata": {
        "id": "TB_woawbfcu2"
      },
      "source": [
        "***\n",
        "#INTRODUÇÃO\n",
        "***"
      ]
    },
    {
      "cell_type": "markdown",
      "metadata": {
        "id": "VTKzazTx_7rc"
      },
      "source": [
        "##SUS - Sistema Único de Saúde"
      ]
    },
    {
      "cell_type": "markdown",
      "metadata": {
        "id": "jB-IQ5WiztDu"
      },
      "source": [
        "<img src=\"https://logodownload.org/wp-content/uploads/2017/02/sus-logo-0.png\" alt=\"SUS\" width= \"250\"/>\n",
        "\n"
      ]
    },
    {
      "cell_type": "markdown",
      "metadata": {
        "id": "MbDgh4xUoiUK"
      },
      "source": [
        "Creio que você sabe o que é o **SUS** mesmo que não use diariamente ou nunca tenha usado na vida, pois aqui no Brasil esse sistema é muito conhecido e muito utilizado pelas pessoas que possuem uma **baixa renda familiar** ou pessoas que não têm condições de contratar um **plano de saúde**. SUS significa: **Sistema de Único de Saude** e é a denominação do sistema público de saúde brasileira. \n",
        "\n",
        "\n",
        "Todos os cidadãos brasileiros possuem o direito, desde o nascimento, aos serviços de saúde gratuitos. **SUS** foi criado em 1988 no governo do Presidente do Brasil José Sarney e hoje é um dos **maiores sistemas públicos de saúde do mundo**, esse sistema é o **único** a garantir assistência **integral** e completamente **gratuita**.\n",
        "\n",
        "O **Programa Nacional de Imunização** (PNI) é responsável **98% **do mercado de disponibilização de **vacinas** em solo brasileiro, esse programa é promovido pelo **SUS**. As vacinas são disponibilizadas **gratuitamente** para combater diversas **doenças** no país.\n",
        "\n",
        "Além disso, o sistema auxilia gratuitamente os brasileiros vítimas do virus **HIV**(do inglês Human Immunodeficiency Virus), que possuem problemas **renais crônicos, tuberculose, hanseníase e cancer.**\n",
        "\n",
        "Todos os sistemas tem suas falhas, mas graças ao SUS pessoas que não possuem **condições de pagar** por remédios, por vacinas, por consultas em médicos especializados, contratar um convênio,fazer exames caros etc, conseguem ter acesso a esses benefícios de graça.\n",
        "\n",
        "\n",
        "*   [Apesar de problemas, SUS é referencia em saúde pública](https://www1.folha.uol.com.br/seminariosfolha/2018/04/apesar-de-problemas-sus-e-referencia-em-saude-publica-dizem-especialistas.shtml)\n",
        "*   [Dez razões para defender o SUS](https://mst.org.br/2020/03/20/10-razoes-para-defender-o-sus/)\n",
        "\n",
        "*   [7 a cada 10 brasileiros dependem do SUS](https://cesrj.com/2020/09/04/sem-plano-privado-7-em-cada-10-brasileiros-dependem-do-sistema-unico-de-saude/)\n",
        "*   [Antes do SUS, saúde era para poucos](https://www12.senado.leg.br/emdiscussao/edicoes/saude/contexto/antes-do-sus-saude-era-para-poucos)\n",
        "*   [150 milhões de brasileiros dependem do SUS](https://summitsaude.estadao.com.br/desafios-no-brasil/acesso-a-saude-150-milhoes-de-brasileiros-dependem-do-sus/)\n",
        "\n",
        "Apesar de todos os defeitos, os pobres precisam do SUS, precisamos sair de nossas bolhas e olhar ao nosso redor para compreender, ter empatia e dizer:\n",
        "\n",
        "\n",
        "<img src=\"https://media2.giphy.com/media/DqxbHsZEXaNCYZ0AAS/giphy.gif?cid=ecf05e4725ybst0yahsfcqohsjlekh2ye3x2x22nqqv6911n&rid=giphy.gif&ct=s\" alt=\"Viva o SUS\" width=\"300\"/>\n",
        "\n",
        "\n",
        "\n"
      ]
    },
    {
      "cell_type": "markdown",
      "metadata": {
        "id": "vmJo6JEGACmu"
      },
      "source": [
        "##Dados Abertos"
      ]
    },
    {
      "cell_type": "markdown",
      "metadata": {
        "id": "HJ3pG44GFWWX"
      },
      "source": [
        "<img src=\"https://media4.giphy.com/media/aU1laHdrlRvcpk7tMS/giphy.gif?cid=ecf05e47gkbajfj6xono0qnxbbfwzv729l9sfiumozap9p57&rid=giphy.gif&ct=s\" alt=\"open\" width=\"100\"/>\n",
        "\n"
      ]
    },
    {
      "cell_type": "markdown",
      "metadata": {
        "id": "qWD9Q5dlC7HA"
      },
      "source": [
        "**Dados abertos** é um termo que vem ganhando muita **popularidade** no movimento de **transparência e governo aberto** no mundo todo. Essa abertura segue o princípio do **Governo Aberto**: tratar o acesso à **informação pública** como regra, não como exceção.\n",
        "\n",
        "Para que um conjunto de dados possa ser considerado **aberto**, ele precisa reunir no **mínimo 3** caracteríscas abaixo:\n",
        "\n",
        "1.   Disponibilidade e acesso\n",
        "2.   Reutilização e redistribuição\n",
        "3.   Participação universal\n",
        "\n",
        "Essas características são resumidas em leis sugeridas pelo ativista dos dados abertos **David Eaves**.\n",
        "\n",
        "Todo dado público **deve** ser aberto, mas **nem todo dado é público**. Na legislação não são dados públicos os dados **sigilosos**, dados que possam comprometer a **segurança** **nacional** e os dados que possam identificar os **indivíduos**.\n",
        "\n",
        "fonte: [Guia de Dados Abertos](https://nic.br/media/docs/publicacoes/13/Guia_Dados_Abertos.pdf)"
      ]
    },
    {
      "cell_type": "markdown",
      "metadata": {
        "id": "eZyjK8AaAVFV"
      },
      "source": [
        "Segundo o site [dados.gov](https://dados.gov.br/pagina/dados-abertos), \"dados são abertos quando qualquer pessoa pode livremente acessá-los, utilizá-los, modificá-los e compartilhá-los para qualquer finalidade, estando sujeito a, no máximo, a exigências que visem preservar sua proveniência e sua abertura.\"\n",
        "\n",
        "Trabalhar com dados abertos é um grande desafio, pois muitas vezes os dados estão sujos, faltando informações, desatualizados, difícil acesso, base incompleta e entre outros problemas. Justamente por esses impecilhos, esse projeto tem como objetivo estudar os dados abertos da saúde tirados do **DATASUS**.\n",
        "\n",
        "Você verá que preciso limpar, organizar, manipular diversas vezes esses dados para que eu consiga extrair informações e criar visualizações.\n",
        "\n",
        "* [Dados abertos nas capitais são incompletos e desatualizados](https://exame.com/brasil/dados-abertos-nas-capitais-sao-incompletos-e-desatualizados/)\n",
        "\n",
        "* [Dificuldade de acesso a dados públicos sobre Salvador](https://www.mpba.mp.br/noticia/42310)"
      ]
    },
    {
      "cell_type": "markdown",
      "metadata": {
        "id": "GYfvw-0YKRqo"
      },
      "source": [
        "<img src=\"https://media3.giphy.com/media/U6G6RDAr37IZGhoSfM/giphy.gif?cid=ecf05e47oewus8j5dvilw20mh30fpk441w8g83z6xqtf68xb&rid=giphy.gif&ct=s\" alt=\"clean\" width=\"200\"/>\n"
      ]
    },
    {
      "cell_type": "markdown",
      "metadata": {
        "id": "EeJ1_5M7Q7zG"
      },
      "source": [
        "## AIDS = HIV?"
      ]
    },
    {
      "cell_type": "markdown",
      "metadata": {
        "id": "yg_x1ivXRD80"
      },
      "source": [
        "Não, os significados são:\n",
        "-  **AIDS** significa: *Acquired Immune Deficiency Syndrome*, em português Síndrome da Imunodeficiência Adquirida;\n",
        "-  **HIV** significa: *Human Immunodeficiência Virus*,  em português Virus da imunodeficiência humana.\n",
        "\n",
        "Já pelo significados das siglas já conseguimos distinguir uma da outra. Infelizmente, hoje, a população ainda não entendeu que o ter o virus no corpo não é a mesma coisa que ter a doença. \n",
        "\n",
        "Ter HIV no organismo, não é a mesma coisa que ter AIDS, hoje possui muitos soro positivos(portadores do HIV) que vivem anos sem apresentar sintomas e sem desenvolver a doença. \n",
        "\n",
        "O virus pode ser transmitido pelo contato com o sangue, sêmen ou fluidos vaginais infectados. Algumas semanas após a contaminação podem ocorrer sintomas semelhantes aos da gripe, como dor de garganta, fadiga, febre. \n",
        "\n",
        "Geralmente costuma ser assintomática no começo, mas quando evolue para AIDS os sintomas incluem perda de peso , sudorese noturna e infecções recorrentes. \n",
        "\n",
        "Hoje, ainda não existe cura para a AIDS, mas temos muitos estudos sendo realizados: \n",
        "\n",
        "- [Cientistas descobrem anticorpos](https://olhardigital.com.br/2021/05/22/medicina-e-saude/cientistas-descobrem-anticorpos-podem-ser-a-chave-para-a-vacina-contra-hiv/) \n",
        "\n",
        "- [Injeção mais eficaz que coquetel](https://g1.globo.com/ciencia-e-saude/noticia/2020/11/10/esquema-de-prevencao-do-hiv-com-injecoes-e-mais-eficaz-do-que-comprimidos-em-mulheres-aponta-estudo-com-3-mil-voluntarias.ghtml)\n",
        "- [Brasileiro curado da AIDS?](https://g1.globo.com/bemestar/podcast/noticia/2020/07/08/bem-estar-46-o-paciente-brasileiro-que-pode-ter-alcancado-a-cura-da-aids.ghtmlhttps://)\n",
        "\n",
        "- [Coquetel eliminou o vírus da AIDS?](https://g1.globo.com/bemestar/aids/noticia/2020/07/07/pesquisa-brasileira-apresenta-primeiro-medicamento-com-chance-de-eliminar-o-hiv.ghtml)"
      ]
    },
    {
      "cell_type": "markdown",
      "metadata": {
        "id": "axQIB5aKZP3z"
      },
      "source": [
        "###Indectável  = Intransmissível"
      ]
    },
    {
      "cell_type": "markdown",
      "metadata": {
        "id": "0AvbI-EkbFRk"
      },
      "source": [
        "<img src=\"https://static.preparaenem.com/conteudo_legenda/b50d2ed0af362a00922a2dec70b2f0ce.jpg\" alt=\"coquetel\" width=\"500\"/>\n"
      ]
    },
    {
      "cell_type": "markdown",
      "metadata": {
        "id": "oK1vtsy5aX1P"
      },
      "source": [
        "O coquetel que os portadores do HIV/Aids tomam todos os dias, torna o vírus indectável e estudos indicam que quando um portador está indectável ele não transmite mais o HIV para outras pessoas. Portanto, pessoa soropositiva poderá ter relações sem preservativos sem que o HIV seja transmitido para o parceiro. "
      ]
    },
    {
      "cell_type": "markdown",
      "metadata": {
        "id": "nxp-peDybTf_"
      },
      "source": [
        "<img src=\"https://ninecircles.ca/wp-content/uploads/2018/08/uu.jpg\" alt=\"coquetel\" width=\"300\"/>\n"
      ]
    },
    {
      "cell_type": "markdown",
      "metadata": {
        "id": "g6Smi1xUZYmm"
      },
      "source": [
        "<img src=\"http://giv.org.br/img/hiv-indetectavel=intransmissivel.png\" alt=\"I_I\"/>\n"
      ]
    },
    {
      "cell_type": "markdown",
      "metadata": {
        "id": "jr9krswuWUri"
      },
      "source": [
        "###Linha do tempo do HIV"
      ]
    },
    {
      "cell_type": "markdown",
      "metadata": {
        "id": "in5v8VukVpZE"
      },
      "source": [
        "<img src=\"https://www.drakeillafreitas.com.br/wp-content/uploads/2018/01/LInha-do-tempo-HIV.jpg\" alt=\"open\" width=\"900\"/>\n",
        "\n"
      ]
    },
    {
      "cell_type": "markdown",
      "metadata": {
        "id": "9OYmOPzTWaBz"
      },
      "source": [
        " - 1.981 – **Primeiros casos reconhecidos** <br>\n",
        "Em junho, é publicado em revista médica, o primeiro caso de morte em um homem gay jovem por pneumonia<br>\n",
        "Tratava-se de uma pneumonia grave causada por um fungo, capaz de causar doença apenas em pessoas com imunidade muito baixa."
      ]
    },
    {
      "cell_type": "markdown",
      "metadata": {
        "id": "eb1EYelMWy-p"
      },
      "source": [
        "-  1.982 – **o nome “AIDS”** <br>\n",
        "A Síndrome recebe o nome de Síndrome da Imunodeficiência Adquirida – AIDS. <br>\n",
        "Cientistas suspeitam que a transmissão ocorra por sangue contaminado.<br>\n",
        "Ainda não se sabe o que causa a síndrome<br>\n",
        "Confirmados os primeiros casos de AIDS no Brasil<br>\n",
        "Chamada de Doença dos 5 Hs: Homossexuais, Hemofílicos, Haitianos, Heroinômanos (usuários de heroína injetável), Hookers (profissionais do sexo em inglês)"
      ]
    },
    {
      "cell_type": "markdown",
      "metadata": {
        "id": "x5m7BSKWXGa2"
      },
      "source": [
        " - 1.983 – **A causa é um vírus**<br>\n",
        "Isolado vírus em glândula de paciente com AIDS <br>\n",
        "Primeiramente recebe o nome de Vírus Associado a linfadenopatia – LAV<br>\n",
        "Primeira notificação do vírus em crianças<br>\n",
        "Brasil identifica o seu primeiro caso de transmissão do vírus em mulher"
      ]
    },
    {
      "cell_type": "markdown",
      "metadata": {
        "id": "cii7MyUgXV0x"
      },
      "source": [
        " - 1.986 – **Nome oficial** <br>\n",
        "O vírus recebe oficialmente o nome de Vírus da Imunodeficiência Humana – HIV<br>\n",
        "Presidente Reagan usa publicamente a palavra AIDS pela primeira vez."
      ]
    },
    {
      "cell_type": "markdown",
      "metadata": {
        "id": "BSBK6FazXmNr"
      },
      "source": [
        "- 1.996-97 – **Inicio da Era TARV** (Tratamento Antirretroviral)<br>\n",
        "Inicio do uso do coquetel (zidovudina + Didanosina) para tratamento do HIV. <br>\n",
        "O tratamento é capaz de reduzir a taxa viral a níveis quase indetectáveis no sangue e reduz as mortes por HIV em 40%. <br>\n"
      ]
    },
    {
      "cell_type": "markdown",
      "metadata": {
        "id": "6Z51DugAX682"
      },
      "source": [
        "- 2016-17 – **PrEP no Brasil / U=U** <br>\n",
        "Anvisa libera o uso do Truvada (medicação usada para a Profiláxia Pré-exposição)  no Brasil que passa a ser disponibilizada pelo SUS <br>\n",
        "CDC – Centro de Controle de doenças dos Estados Unidos, define que pessoas com Carga Viral indetectável não transmitem o vírus, mesmo em relações sexuais sem preservativo. É a campanha U=U (undetectable is untransmittable) ou seja, I=I (Indetectável é igual a Intransmissível) "
      ]
    },
    {
      "cell_type": "markdown",
      "metadata": {
        "id": "QEBCFnidA7NK"
      },
      "source": [
        "fonte: https://www.drakeillafreitas.com.br/historia-do-hiv/"
      ]
    },
    {
      "cell_type": "markdown",
      "metadata": {
        "id": "xkubyglD2n80"
      },
      "source": [
        "***\n",
        "#ESCOPO DO PROJETO\n",
        "***"
      ]
    },
    {
      "cell_type": "markdown",
      "metadata": {
        "id": "clnxM3icfk2e"
      },
      "source": [
        "***\n",
        "#IMPORTAÇÃO DAS BIBLIOTECAS\n",
        "***"
      ]
    },
    {
      "cell_type": "markdown",
      "metadata": {
        "id": "2a95o7pF4H7Y"
      },
      "source": [
        "Para realizar esse projeto de análise de dados, vamos importar as bibliotecas que nos auxilirá no estudo.<BR>\n"
      ]
    },
    {
      "cell_type": "code",
      "metadata": {
        "id": "t4xl6ai_7L3T"
      },
      "source": [
        "import pandas            as pd\n",
        "import numpy             as np\n",
        "\n",
        "\n",
        "#bibliotecas de visualização\n",
        "\n",
        "import matplotlib.pyplot as plt\n",
        "import matplotlib.ticker as ticker\n",
        "import seaborn           as sns\n",
        "\n",
        "\n",
        "import warnings\n",
        "warnings.filterwarnings('ignore')"
      ],
      "execution_count": 1,
      "outputs": []
    },
    {
      "cell_type": "markdown",
      "metadata": {
        "id": "HxlV9nAHfpLw"
      },
      "source": [
        "***\n",
        "#CARREGAMENTO DAS BASES\n",
        "***"
      ]
    },
    {
      "cell_type": "markdown",
      "metadata": {
        "id": "zcCpe2Iq6zd2"
      },
      "source": [
        "Precisamos importar os datasets, para isso utilizaremos o a biblioteca Pandas e ler os arquivos em .CSV, mas essas bases de dados são separadas por “;”, para especificar que a separação do arquivo, utilizamos o parâmetro “sep =”, como também colocamos o parâmetro de qual encoding está o arquivo. Neste caso os arquivos estão em “UFT-8”.\n"
      ]
    },
    {
      "cell_type": "code",
      "metadata": {
        "id": "SZRxvT_44Tog"
      },
      "source": [
        "df_escolaridade =  pd.read_csv(\"https://github.com/JuniorTorresMTJ/temp/blob/main/data/hiv_escola.csv?raw=true\", \n",
        "                               encoding='utf8', sep=\";\")\n",
        "df_etária = pd.read_csv(\"https://github.com/JuniorTorresMTJ/temp/blob/main/data/hiv_faixaetaria.csv?raw=true\", \n",
        "                               encoding='utf8', sep=\";\")\n",
        "df_raca = pd.read_csv(\"https://github.com/JuniorTorresMTJ/temp/blob/main/data/hiv_raca.csv?raw=true\", \n",
        "                               encoding='utf8', sep=\";\")\n",
        "df_sexo = pd.read_csv(\"https://github.com/JuniorTorresMTJ/temp/blob/main/data/hiv_sexo.csv?raw=true\", \n",
        "                               encoding='utf8', sep=\";\")\n",
        "df_sexualidade = pd.read_csv(\"https://github.com/JuniorTorresMTJ/temp/blob/main/data/hiv_sexualidade.csv?raw=true\", \n",
        "                               encoding='utf8', sep=\";\")\n",
        "df_sex_evo = pd.read_csv(\"https://github.com/JuniorTorresMTJ/temp/blob/main/data/hiv_sexualidade_evo.csv?raw=true\", \n",
        "                               encoding='utf8', sep=\";\")\n",
        "df_gastos =  pd.read_csv(\"https://github.com/JuniorTorresMTJ/Projeto_DeuPositivo/blob/main/data/GastosHiv.csv?raw=true\", \n",
        "                         encoding=\"ISO-8859-1\", skiprows=4, skipfooter = 12, sep=\";\", thousands=\".\", decimal =\",\")\n",
        "df_obitos =  pd.read_csv(\"https://github.com/JuniorTorresMTJ/Projeto_DeuPositivo/blob/main/data/ObitosHiv.csv?raw=true\", \n",
        "                         encoding=\"ISO-8859-1\", skiprows=4, skipfooter = 12, sep=\";\", thousands=\".\", decimal =\",\")"
      ],
      "execution_count": 2,
      "outputs": []
    },
    {
      "cell_type": "markdown",
      "metadata": {
        "id": "U_bgLWKU7Fro"
      },
      "source": [
        "Agora vamos olhar todos os nossos dataframes criados chamados: \n",
        "\n",
        "\n",
        "*   **df_escolaridade** = Conjunto de dados que possui os dados de quantidade de diagnóstico de HIV por escolariadade por ano. <BR>\n",
        "*   **df_etária** = Conjunto de dados que possui os dados de quantidade de diagnóstico de HIV por faixa etária por ano. <BR>\n",
        "*   **df_raca **= Conjunto de dados que possui os dados de quantidade de diagnóstico de HIV por por raça. <BR>\n",
        "*   **df_sexo** = Conjunto de dados que possui os dados de quantidade de diagnóstico de HIV por sexo por ano.<BR>\n",
        "*   **df_sexualidade** = Conjunto de dados que possui os dados de quantidade de diagnóstico de HIV por orientação sexual e estado.<BR>\n",
        "*   **df_sex_evo** = Conjunto de dados que possui os dados de quantidade de diagnóstico de HIV por orientação sexual por ano.<BR>\n",
        "*   **df_gastos** = Conjunto de dados que possui os dados de quantidade de gastos em tratamento de HIV/AIDS por ano.\n",
        "*   **df_obitos** = Conjunto de dados que possui os dados de quantidade mortes com Tratamento de HIV/AIDS\n",
        "\n",
        "\n"
      ]
    },
    {
      "cell_type": "code",
      "metadata": {
        "colab": {
          "base_uri": "https://localhost:8080/",
          "height": 546
        },
        "id": "h_I64u3r4trd",
        "outputId": "6a1d9ab1-50a5-4abe-aac3-918714c2189f"
      },
      "source": [
        "df_escolaridade"
      ],
      "execution_count": 3,
      "outputs": [
        {
          "output_type": "execute_result",
          "data": {
            "text/html": [
              "<div>\n",
              "<style scoped>\n",
              "    .dataframe tbody tr th:only-of-type {\n",
              "        vertical-align: middle;\n",
              "    }\n",
              "\n",
              "    .dataframe tbody tr th {\n",
              "        vertical-align: top;\n",
              "    }\n",
              "\n",
              "    .dataframe thead th {\n",
              "        text-align: right;\n",
              "    }\n",
              "</style>\n",
              "<table border=\"1\" class=\"dataframe\">\n",
              "  <thead>\n",
              "    <tr style=\"text-align: right;\">\n",
              "      <th></th>\n",
              "      <th>Escolaridade</th>\n",
              "      <th>1980</th>\n",
              "      <th>1982</th>\n",
              "      <th>1983</th>\n",
              "      <th>1984</th>\n",
              "      <th>1985</th>\n",
              "      <th>1986</th>\n",
              "      <th>1987</th>\n",
              "      <th>1988</th>\n",
              "      <th>1989</th>\n",
              "      <th>1990</th>\n",
              "      <th>1991</th>\n",
              "      <th>1992</th>\n",
              "      <th>1993</th>\n",
              "      <th>1994</th>\n",
              "      <th>1995</th>\n",
              "      <th>1996</th>\n",
              "      <th>1997</th>\n",
              "      <th>1998</th>\n",
              "      <th>1999</th>\n",
              "      <th>2000</th>\n",
              "      <th>2001</th>\n",
              "      <th>2002</th>\n",
              "      <th>2003</th>\n",
              "      <th>2004</th>\n",
              "      <th>2005</th>\n",
              "      <th>2006</th>\n",
              "      <th>2007</th>\n",
              "      <th>2008</th>\n",
              "      <th>2009</th>\n",
              "      <th>2010</th>\n",
              "      <th>2011</th>\n",
              "      <th>2012</th>\n",
              "      <th>2013</th>\n",
              "      <th>2014</th>\n",
              "      <th>2015</th>\n",
              "      <th>2016</th>\n",
              "      <th>2017</th>\n",
              "      <th>2018</th>\n",
              "      <th>2019</th>\n",
              "      <th>2020</th>\n",
              "      <th>Total</th>\n",
              "    </tr>\n",
              "  </thead>\n",
              "  <tbody>\n",
              "    <tr>\n",
              "      <th>0</th>\n",
              "      <td>analfabeto</td>\n",
              "      <td>0</td>\n",
              "      <td>1</td>\n",
              "      <td>0</td>\n",
              "      <td>0</td>\n",
              "      <td>2</td>\n",
              "      <td>16</td>\n",
              "      <td>50</td>\n",
              "      <td>68</td>\n",
              "      <td>124</td>\n",
              "      <td>132</td>\n",
              "      <td>237</td>\n",
              "      <td>311</td>\n",
              "      <td>472</td>\n",
              "      <td>536</td>\n",
              "      <td>697</td>\n",
              "      <td>857</td>\n",
              "      <td>1049</td>\n",
              "      <td>1105</td>\n",
              "      <td>964</td>\n",
              "      <td>1096</td>\n",
              "      <td>1047</td>\n",
              "      <td>1087</td>\n",
              "      <td>959</td>\n",
              "      <td>919</td>\n",
              "      <td>847</td>\n",
              "      <td>749</td>\n",
              "      <td>542</td>\n",
              "      <td>595</td>\n",
              "      <td>629</td>\n",
              "      <td>680</td>\n",
              "      <td>718</td>\n",
              "      <td>674</td>\n",
              "      <td>685</td>\n",
              "      <td>596</td>\n",
              "      <td>518</td>\n",
              "      <td>488</td>\n",
              "      <td>471</td>\n",
              "      <td>420</td>\n",
              "      <td>398</td>\n",
              "      <td>85</td>\n",
              "      <td>20824</td>\n",
              "    </tr>\n",
              "    <tr>\n",
              "      <th>1</th>\n",
              "      <td>1ª a 4ª série incompleta</td>\n",
              "      <td>0</td>\n",
              "      <td>1</td>\n",
              "      <td>3</td>\n",
              "      <td>4</td>\n",
              "      <td>20</td>\n",
              "      <td>80</td>\n",
              "      <td>322</td>\n",
              "      <td>724</td>\n",
              "      <td>1050</td>\n",
              "      <td>1585</td>\n",
              "      <td>2078</td>\n",
              "      <td>2903</td>\n",
              "      <td>3514</td>\n",
              "      <td>4011</td>\n",
              "      <td>4426</td>\n",
              "      <td>5104</td>\n",
              "      <td>5866</td>\n",
              "      <td>8010</td>\n",
              "      <td>7434</td>\n",
              "      <td>7369</td>\n",
              "      <td>6149</td>\n",
              "      <td>4415</td>\n",
              "      <td>3785</td>\n",
              "      <td>3638</td>\n",
              "      <td>3132</td>\n",
              "      <td>2805</td>\n",
              "      <td>2433</td>\n",
              "      <td>2575</td>\n",
              "      <td>2406</td>\n",
              "      <td>2331</td>\n",
              "      <td>2405</td>\n",
              "      <td>2384</td>\n",
              "      <td>2251</td>\n",
              "      <td>2060</td>\n",
              "      <td>1863</td>\n",
              "      <td>1548</td>\n",
              "      <td>1342</td>\n",
              "      <td>1240</td>\n",
              "      <td>1032</td>\n",
              "      <td>283</td>\n",
              "      <td>104581</td>\n",
              "    </tr>\n",
              "    <tr>\n",
              "      <th>2</th>\n",
              "      <td>4ª série completa</td>\n",
              "      <td>0</td>\n",
              "      <td>1</td>\n",
              "      <td>0</td>\n",
              "      <td>1</td>\n",
              "      <td>0</td>\n",
              "      <td>1</td>\n",
              "      <td>3</td>\n",
              "      <td>5</td>\n",
              "      <td>5</td>\n",
              "      <td>9</td>\n",
              "      <td>5</td>\n",
              "      <td>15</td>\n",
              "      <td>16</td>\n",
              "      <td>22</td>\n",
              "      <td>31</td>\n",
              "      <td>30</td>\n",
              "      <td>64</td>\n",
              "      <td>79</td>\n",
              "      <td>96</td>\n",
              "      <td>200</td>\n",
              "      <td>165</td>\n",
              "      <td>275</td>\n",
              "      <td>334</td>\n",
              "      <td>353</td>\n",
              "      <td>457</td>\n",
              "      <td>803</td>\n",
              "      <td>2227</td>\n",
              "      <td>2099</td>\n",
              "      <td>1990</td>\n",
              "      <td>1787</td>\n",
              "      <td>1850</td>\n",
              "      <td>1777</td>\n",
              "      <td>1566</td>\n",
              "      <td>1496</td>\n",
              "      <td>1318</td>\n",
              "      <td>1086</td>\n",
              "      <td>943</td>\n",
              "      <td>842</td>\n",
              "      <td>685</td>\n",
              "      <td>191</td>\n",
              "      <td>22827</td>\n",
              "    </tr>\n",
              "    <tr>\n",
              "      <th>3</th>\n",
              "      <td>5ª a 8ª série incompleta</td>\n",
              "      <td>0</td>\n",
              "      <td>0</td>\n",
              "      <td>3</td>\n",
              "      <td>19</td>\n",
              "      <td>62</td>\n",
              "      <td>112</td>\n",
              "      <td>362</td>\n",
              "      <td>718</td>\n",
              "      <td>1133</td>\n",
              "      <td>1732</td>\n",
              "      <td>2428</td>\n",
              "      <td>3286</td>\n",
              "      <td>3961</td>\n",
              "      <td>4291</td>\n",
              "      <td>5125</td>\n",
              "      <td>5926</td>\n",
              "      <td>6924</td>\n",
              "      <td>6799</td>\n",
              "      <td>6225</td>\n",
              "      <td>6828</td>\n",
              "      <td>7242</td>\n",
              "      <td>8233</td>\n",
              "      <td>8563</td>\n",
              "      <td>8174</td>\n",
              "      <td>7572</td>\n",
              "      <td>6877</td>\n",
              "      <td>5242</td>\n",
              "      <td>5279</td>\n",
              "      <td>5301</td>\n",
              "      <td>5263</td>\n",
              "      <td>5277</td>\n",
              "      <td>5250</td>\n",
              "      <td>5285</td>\n",
              "      <td>4649</td>\n",
              "      <td>3953</td>\n",
              "      <td>3570</td>\n",
              "      <td>3275</td>\n",
              "      <td>2836</td>\n",
              "      <td>2409</td>\n",
              "      <td>645</td>\n",
              "      <td>160829</td>\n",
              "    </tr>\n",
              "    <tr>\n",
              "      <th>4</th>\n",
              "      <td>fundamental completo</td>\n",
              "      <td>0</td>\n",
              "      <td>0</td>\n",
              "      <td>0</td>\n",
              "      <td>0</td>\n",
              "      <td>0</td>\n",
              "      <td>4</td>\n",
              "      <td>3</td>\n",
              "      <td>7</td>\n",
              "      <td>3</td>\n",
              "      <td>13</td>\n",
              "      <td>16</td>\n",
              "      <td>23</td>\n",
              "      <td>25</td>\n",
              "      <td>35</td>\n",
              "      <td>50</td>\n",
              "      <td>86</td>\n",
              "      <td>114</td>\n",
              "      <td>146</td>\n",
              "      <td>176</td>\n",
              "      <td>245</td>\n",
              "      <td>285</td>\n",
              "      <td>399</td>\n",
              "      <td>453</td>\n",
              "      <td>552</td>\n",
              "      <td>708</td>\n",
              "      <td>1265</td>\n",
              "      <td>3115</td>\n",
              "      <td>3093</td>\n",
              "      <td>3026</td>\n",
              "      <td>3047</td>\n",
              "      <td>2972</td>\n",
              "      <td>2935</td>\n",
              "      <td>3018</td>\n",
              "      <td>2625</td>\n",
              "      <td>2280</td>\n",
              "      <td>2102</td>\n",
              "      <td>1948</td>\n",
              "      <td>1731</td>\n",
              "      <td>1462</td>\n",
              "      <td>424</td>\n",
              "      <td>38386</td>\n",
              "    </tr>\n",
              "    <tr>\n",
              "      <th>5</th>\n",
              "      <td>médio incompleto</td>\n",
              "      <td>1</td>\n",
              "      <td>2</td>\n",
              "      <td>6</td>\n",
              "      <td>13</td>\n",
              "      <td>56</td>\n",
              "      <td>125</td>\n",
              "      <td>336</td>\n",
              "      <td>608</td>\n",
              "      <td>817</td>\n",
              "      <td>1211</td>\n",
              "      <td>1714</td>\n",
              "      <td>2138</td>\n",
              "      <td>2560</td>\n",
              "      <td>2805</td>\n",
              "      <td>3173</td>\n",
              "      <td>3371</td>\n",
              "      <td>3728</td>\n",
              "      <td>4177</td>\n",
              "      <td>3936</td>\n",
              "      <td>4165</td>\n",
              "      <td>4439</td>\n",
              "      <td>5196</td>\n",
              "      <td>5356</td>\n",
              "      <td>5360</td>\n",
              "      <td>4873</td>\n",
              "      <td>4199</td>\n",
              "      <td>1782</td>\n",
              "      <td>1951</td>\n",
              "      <td>1861</td>\n",
              "      <td>1902</td>\n",
              "      <td>1956</td>\n",
              "      <td>2026</td>\n",
              "      <td>1964</td>\n",
              "      <td>1858</td>\n",
              "      <td>1712</td>\n",
              "      <td>1617</td>\n",
              "      <td>1545</td>\n",
              "      <td>1343</td>\n",
              "      <td>1223</td>\n",
              "      <td>378</td>\n",
              "      <td>87483</td>\n",
              "    </tr>\n",
              "    <tr>\n",
              "      <th>6</th>\n",
              "      <td>médio completo</td>\n",
              "      <td>0</td>\n",
              "      <td>1</td>\n",
              "      <td>1</td>\n",
              "      <td>2</td>\n",
              "      <td>3</td>\n",
              "      <td>3</td>\n",
              "      <td>9</td>\n",
              "      <td>11</td>\n",
              "      <td>7</td>\n",
              "      <td>16</td>\n",
              "      <td>26</td>\n",
              "      <td>32</td>\n",
              "      <td>43</td>\n",
              "      <td>60</td>\n",
              "      <td>60</td>\n",
              "      <td>96</td>\n",
              "      <td>154</td>\n",
              "      <td>232</td>\n",
              "      <td>217</td>\n",
              "      <td>260</td>\n",
              "      <td>301</td>\n",
              "      <td>450</td>\n",
              "      <td>474</td>\n",
              "      <td>585</td>\n",
              "      <td>814</td>\n",
              "      <td>1147</td>\n",
              "      <td>3026</td>\n",
              "      <td>3749</td>\n",
              "      <td>4044</td>\n",
              "      <td>4447</td>\n",
              "      <td>4844</td>\n",
              "      <td>5388</td>\n",
              "      <td>5660</td>\n",
              "      <td>5468</td>\n",
              "      <td>4988</td>\n",
              "      <td>4706</td>\n",
              "      <td>4556</td>\n",
              "      <td>4265</td>\n",
              "      <td>3863</td>\n",
              "      <td>1171</td>\n",
              "      <td>65179</td>\n",
              "    </tr>\n",
              "    <tr>\n",
              "      <th>7</th>\n",
              "      <td>superior incompleto</td>\n",
              "      <td>0</td>\n",
              "      <td>1</td>\n",
              "      <td>0</td>\n",
              "      <td>0</td>\n",
              "      <td>0</td>\n",
              "      <td>1</td>\n",
              "      <td>2</td>\n",
              "      <td>3</td>\n",
              "      <td>2</td>\n",
              "      <td>4</td>\n",
              "      <td>4</td>\n",
              "      <td>0</td>\n",
              "      <td>4</td>\n",
              "      <td>3</td>\n",
              "      <td>13</td>\n",
              "      <td>21</td>\n",
              "      <td>21</td>\n",
              "      <td>31</td>\n",
              "      <td>28</td>\n",
              "      <td>52</td>\n",
              "      <td>50</td>\n",
              "      <td>54</td>\n",
              "      <td>73</td>\n",
              "      <td>100</td>\n",
              "      <td>150</td>\n",
              "      <td>238</td>\n",
              "      <td>573</td>\n",
              "      <td>674</td>\n",
              "      <td>803</td>\n",
              "      <td>956</td>\n",
              "      <td>1054</td>\n",
              "      <td>1202</td>\n",
              "      <td>1388</td>\n",
              "      <td>1386</td>\n",
              "      <td>1296</td>\n",
              "      <td>1162</td>\n",
              "      <td>1205</td>\n",
              "      <td>1104</td>\n",
              "      <td>852</td>\n",
              "      <td>242</td>\n",
              "      <td>14752</td>\n",
              "    </tr>\n",
              "    <tr>\n",
              "      <th>8</th>\n",
              "      <td>superior completo</td>\n",
              "      <td>0</td>\n",
              "      <td>1</td>\n",
              "      <td>8</td>\n",
              "      <td>27</td>\n",
              "      <td>104</td>\n",
              "      <td>209</td>\n",
              "      <td>437</td>\n",
              "      <td>689</td>\n",
              "      <td>953</td>\n",
              "      <td>1252</td>\n",
              "      <td>1394</td>\n",
              "      <td>1667</td>\n",
              "      <td>1556</td>\n",
              "      <td>1503</td>\n",
              "      <td>1576</td>\n",
              "      <td>1765</td>\n",
              "      <td>1695</td>\n",
              "      <td>1916</td>\n",
              "      <td>1710</td>\n",
              "      <td>1699</td>\n",
              "      <td>1643</td>\n",
              "      <td>1901</td>\n",
              "      <td>2047</td>\n",
              "      <td>2078</td>\n",
              "      <td>2252</td>\n",
              "      <td>1985</td>\n",
              "      <td>1285</td>\n",
              "      <td>1436</td>\n",
              "      <td>1637</td>\n",
              "      <td>1772</td>\n",
              "      <td>2067</td>\n",
              "      <td>2254</td>\n",
              "      <td>2319</td>\n",
              "      <td>2273</td>\n",
              "      <td>2167</td>\n",
              "      <td>1963</td>\n",
              "      <td>2025</td>\n",
              "      <td>1835</td>\n",
              "      <td>1591</td>\n",
              "      <td>482</td>\n",
              "      <td>57173</td>\n",
              "    </tr>\n",
              "    <tr>\n",
              "      <th>9</th>\n",
              "      <td>não se aplica</td>\n",
              "      <td>0</td>\n",
              "      <td>0</td>\n",
              "      <td>0</td>\n",
              "      <td>3</td>\n",
              "      <td>6</td>\n",
              "      <td>12</td>\n",
              "      <td>52</td>\n",
              "      <td>98</td>\n",
              "      <td>125</td>\n",
              "      <td>187</td>\n",
              "      <td>248</td>\n",
              "      <td>338</td>\n",
              "      <td>376</td>\n",
              "      <td>537</td>\n",
              "      <td>665</td>\n",
              "      <td>808</td>\n",
              "      <td>891</td>\n",
              "      <td>845</td>\n",
              "      <td>797</td>\n",
              "      <td>692</td>\n",
              "      <td>726</td>\n",
              "      <td>749</td>\n",
              "      <td>797</td>\n",
              "      <td>603</td>\n",
              "      <td>608</td>\n",
              "      <td>457</td>\n",
              "      <td>357</td>\n",
              "      <td>353</td>\n",
              "      <td>325</td>\n",
              "      <td>327</td>\n",
              "      <td>285</td>\n",
              "      <td>307</td>\n",
              "      <td>268</td>\n",
              "      <td>238</td>\n",
              "      <td>181</td>\n",
              "      <td>183</td>\n",
              "      <td>179</td>\n",
              "      <td>143</td>\n",
              "      <td>116</td>\n",
              "      <td>22</td>\n",
              "      <td>13904</td>\n",
              "    </tr>\n",
              "    <tr>\n",
              "      <th>10</th>\n",
              "      <td>Total</td>\n",
              "      <td>1</td>\n",
              "      <td>8</td>\n",
              "      <td>21</td>\n",
              "      <td>69</td>\n",
              "      <td>253</td>\n",
              "      <td>563</td>\n",
              "      <td>1576</td>\n",
              "      <td>2931</td>\n",
              "      <td>4219</td>\n",
              "      <td>6141</td>\n",
              "      <td>8150</td>\n",
              "      <td>10713</td>\n",
              "      <td>12527</td>\n",
              "      <td>13803</td>\n",
              "      <td>15816</td>\n",
              "      <td>18064</td>\n",
              "      <td>20506</td>\n",
              "      <td>23340</td>\n",
              "      <td>21583</td>\n",
              "      <td>22606</td>\n",
              "      <td>22047</td>\n",
              "      <td>22759</td>\n",
              "      <td>22841</td>\n",
              "      <td>22362</td>\n",
              "      <td>21413</td>\n",
              "      <td>20525</td>\n",
              "      <td>20582</td>\n",
              "      <td>21804</td>\n",
              "      <td>22022</td>\n",
              "      <td>22512</td>\n",
              "      <td>23428</td>\n",
              "      <td>24197</td>\n",
              "      <td>24404</td>\n",
              "      <td>22649</td>\n",
              "      <td>20276</td>\n",
              "      <td>18425</td>\n",
              "      <td>17489</td>\n",
              "      <td>15759</td>\n",
              "      <td>13631</td>\n",
              "      <td>3923</td>\n",
              "      <td>585938</td>\n",
              "    </tr>\n",
              "  </tbody>\n",
              "</table>\n",
              "</div>"
            ],
            "text/plain": [
              "                Escolaridade  1980  1982  1983  ...   2018   2019  2020   Total\n",
              "0                 analfabeto     0     1     0  ...    420    398    85   20824\n",
              "1   1ª a 4ª série incompleta     0     1     3  ...   1240   1032   283  104581\n",
              "2          4ª série completa     0     1     0  ...    842    685   191   22827\n",
              "3   5ª a 8ª série incompleta     0     0     3  ...   2836   2409   645  160829\n",
              "4       fundamental completo     0     0     0  ...   1731   1462   424   38386\n",
              "5           médio incompleto     1     2     6  ...   1343   1223   378   87483\n",
              "6             médio completo     0     1     1  ...   4265   3863  1171   65179\n",
              "7        superior incompleto     0     1     0  ...   1104    852   242   14752\n",
              "8          superior completo     0     1     8  ...   1835   1591   482   57173\n",
              "9              não se aplica     0     0     0  ...    143    116    22   13904\n",
              "10                     Total     1     8    21  ...  15759  13631  3923  585938\n",
              "\n",
              "[11 rows x 42 columns]"
            ]
          },
          "metadata": {
            "tags": []
          },
          "execution_count": 3
        }
      ]
    },
    {
      "cell_type": "code",
      "metadata": {
        "colab": {
          "base_uri": "https://localhost:8080/",
          "height": 458
        },
        "id": "6BnTnXEv4vBN",
        "outputId": "43b71b63-148d-4aeb-8d82-04e89e6668bc"
      },
      "source": [
        "df_etária"
      ],
      "execution_count": 4,
      "outputs": [
        {
          "output_type": "execute_result",
          "data": {
            "text/html": [
              "<div>\n",
              "<style scoped>\n",
              "    .dataframe tbody tr th:only-of-type {\n",
              "        vertical-align: middle;\n",
              "    }\n",
              "\n",
              "    .dataframe tbody tr th {\n",
              "        vertical-align: top;\n",
              "    }\n",
              "\n",
              "    .dataframe thead th {\n",
              "        text-align: right;\n",
              "    }\n",
              "</style>\n",
              "<table border=\"1\" class=\"dataframe\">\n",
              "  <thead>\n",
              "    <tr style=\"text-align: right;\">\n",
              "      <th></th>\n",
              "      <th>Fx. Etária(SINAN)</th>\n",
              "      <th>1980</th>\n",
              "      <th>1982</th>\n",
              "      <th>1983</th>\n",
              "      <th>1984</th>\n",
              "      <th>1985</th>\n",
              "      <th>1986</th>\n",
              "      <th>1987</th>\n",
              "      <th>1988</th>\n",
              "      <th>1989</th>\n",
              "      <th>1990</th>\n",
              "      <th>1991</th>\n",
              "      <th>1992</th>\n",
              "      <th>1993</th>\n",
              "      <th>1994</th>\n",
              "      <th>1995</th>\n",
              "      <th>1996</th>\n",
              "      <th>1997</th>\n",
              "      <th>1998</th>\n",
              "      <th>1999</th>\n",
              "      <th>2000</th>\n",
              "      <th>2001</th>\n",
              "      <th>2002</th>\n",
              "      <th>2003</th>\n",
              "      <th>2004</th>\n",
              "      <th>2005</th>\n",
              "      <th>2006</th>\n",
              "      <th>2007</th>\n",
              "      <th>2008</th>\n",
              "      <th>2009</th>\n",
              "      <th>2010</th>\n",
              "      <th>2011</th>\n",
              "      <th>2012</th>\n",
              "      <th>2013</th>\n",
              "      <th>2014</th>\n",
              "      <th>2015</th>\n",
              "      <th>2016</th>\n",
              "      <th>2017</th>\n",
              "      <th>2018</th>\n",
              "      <th>2019</th>\n",
              "      <th>2020</th>\n",
              "      <th>Total</th>\n",
              "    </tr>\n",
              "  </thead>\n",
              "  <tbody>\n",
              "    <tr>\n",
              "      <th>0</th>\n",
              "      <td>&lt; 1 ano</td>\n",
              "      <td>0</td>\n",
              "      <td>2</td>\n",
              "      <td>0</td>\n",
              "      <td>4</td>\n",
              "      <td>7</td>\n",
              "      <td>1</td>\n",
              "      <td>29</td>\n",
              "      <td>60</td>\n",
              "      <td>63</td>\n",
              "      <td>106</td>\n",
              "      <td>145</td>\n",
              "      <td>179</td>\n",
              "      <td>203</td>\n",
              "      <td>280</td>\n",
              "      <td>336</td>\n",
              "      <td>440</td>\n",
              "      <td>410</td>\n",
              "      <td>382</td>\n",
              "      <td>347</td>\n",
              "      <td>400</td>\n",
              "      <td>369</td>\n",
              "      <td>336</td>\n",
              "      <td>333</td>\n",
              "      <td>338</td>\n",
              "      <td>330</td>\n",
              "      <td>295</td>\n",
              "      <td>287</td>\n",
              "      <td>277</td>\n",
              "      <td>269</td>\n",
              "      <td>270</td>\n",
              "      <td>282</td>\n",
              "      <td>236</td>\n",
              "      <td>211</td>\n",
              "      <td>200</td>\n",
              "      <td>188</td>\n",
              "      <td>150</td>\n",
              "      <td>147</td>\n",
              "      <td>128</td>\n",
              "      <td>144</td>\n",
              "      <td>36</td>\n",
              "      <td>8220</td>\n",
              "    </tr>\n",
              "    <tr>\n",
              "      <th>1</th>\n",
              "      <td>1-4</td>\n",
              "      <td>0</td>\n",
              "      <td>0</td>\n",
              "      <td>0</td>\n",
              "      <td>3</td>\n",
              "      <td>3</td>\n",
              "      <td>8</td>\n",
              "      <td>21</td>\n",
              "      <td>41</td>\n",
              "      <td>56</td>\n",
              "      <td>74</td>\n",
              "      <td>108</td>\n",
              "      <td>147</td>\n",
              "      <td>165</td>\n",
              "      <td>244</td>\n",
              "      <td>315</td>\n",
              "      <td>378</td>\n",
              "      <td>463</td>\n",
              "      <td>504</td>\n",
              "      <td>470</td>\n",
              "      <td>563</td>\n",
              "      <td>571</td>\n",
              "      <td>786</td>\n",
              "      <td>650</td>\n",
              "      <td>469</td>\n",
              "      <td>492</td>\n",
              "      <td>379</td>\n",
              "      <td>332</td>\n",
              "      <td>337</td>\n",
              "      <td>325</td>\n",
              "      <td>310</td>\n",
              "      <td>219</td>\n",
              "      <td>288</td>\n",
              "      <td>261</td>\n",
              "      <td>218</td>\n",
              "      <td>187</td>\n",
              "      <td>207</td>\n",
              "      <td>183</td>\n",
              "      <td>158</td>\n",
              "      <td>136</td>\n",
              "      <td>39</td>\n",
              "      <td>10110</td>\n",
              "    </tr>\n",
              "    <tr>\n",
              "      <th>2</th>\n",
              "      <td>5-9</td>\n",
              "      <td>0</td>\n",
              "      <td>0</td>\n",
              "      <td>0</td>\n",
              "      <td>1</td>\n",
              "      <td>5</td>\n",
              "      <td>6</td>\n",
              "      <td>12</td>\n",
              "      <td>16</td>\n",
              "      <td>25</td>\n",
              "      <td>32</td>\n",
              "      <td>35</td>\n",
              "      <td>38</td>\n",
              "      <td>45</td>\n",
              "      <td>60</td>\n",
              "      <td>80</td>\n",
              "      <td>110</td>\n",
              "      <td>130</td>\n",
              "      <td>135</td>\n",
              "      <td>169</td>\n",
              "      <td>228</td>\n",
              "      <td>269</td>\n",
              "      <td>506</td>\n",
              "      <td>446</td>\n",
              "      <td>436</td>\n",
              "      <td>372</td>\n",
              "      <td>301</td>\n",
              "      <td>273</td>\n",
              "      <td>247</td>\n",
              "      <td>206</td>\n",
              "      <td>195</td>\n",
              "      <td>165</td>\n",
              "      <td>124</td>\n",
              "      <td>122</td>\n",
              "      <td>118</td>\n",
              "      <td>94</td>\n",
              "      <td>77</td>\n",
              "      <td>76</td>\n",
              "      <td>79</td>\n",
              "      <td>88</td>\n",
              "      <td>18</td>\n",
              "      <td>5339</td>\n",
              "    </tr>\n",
              "    <tr>\n",
              "      <th>3</th>\n",
              "      <td>10-14</td>\n",
              "      <td>0</td>\n",
              "      <td>1</td>\n",
              "      <td>0</td>\n",
              "      <td>3</td>\n",
              "      <td>6</td>\n",
              "      <td>9</td>\n",
              "      <td>22</td>\n",
              "      <td>27</td>\n",
              "      <td>39</td>\n",
              "      <td>36</td>\n",
              "      <td>42</td>\n",
              "      <td>34</td>\n",
              "      <td>39</td>\n",
              "      <td>47</td>\n",
              "      <td>49</td>\n",
              "      <td>51</td>\n",
              "      <td>63</td>\n",
              "      <td>61</td>\n",
              "      <td>61</td>\n",
              "      <td>86</td>\n",
              "      <td>105</td>\n",
              "      <td>193</td>\n",
              "      <td>164</td>\n",
              "      <td>195</td>\n",
              "      <td>207</td>\n",
              "      <td>187</td>\n",
              "      <td>229</td>\n",
              "      <td>233</td>\n",
              "      <td>200</td>\n",
              "      <td>176</td>\n",
              "      <td>195</td>\n",
              "      <td>160</td>\n",
              "      <td>147</td>\n",
              "      <td>114</td>\n",
              "      <td>89</td>\n",
              "      <td>79</td>\n",
              "      <td>75</td>\n",
              "      <td>68</td>\n",
              "      <td>55</td>\n",
              "      <td>11</td>\n",
              "      <td>3558</td>\n",
              "    </tr>\n",
              "    <tr>\n",
              "      <th>4</th>\n",
              "      <td>15-19</td>\n",
              "      <td>0</td>\n",
              "      <td>0</td>\n",
              "      <td>1</td>\n",
              "      <td>7</td>\n",
              "      <td>27</td>\n",
              "      <td>49</td>\n",
              "      <td>127</td>\n",
              "      <td>210</td>\n",
              "      <td>245</td>\n",
              "      <td>358</td>\n",
              "      <td>437</td>\n",
              "      <td>398</td>\n",
              "      <td>402</td>\n",
              "      <td>405</td>\n",
              "      <td>450</td>\n",
              "      <td>407</td>\n",
              "      <td>498</td>\n",
              "      <td>595</td>\n",
              "      <td>522</td>\n",
              "      <td>628</td>\n",
              "      <td>603</td>\n",
              "      <td>673</td>\n",
              "      <td>674</td>\n",
              "      <td>650</td>\n",
              "      <td>572</td>\n",
              "      <td>618</td>\n",
              "      <td>606</td>\n",
              "      <td>699</td>\n",
              "      <td>726</td>\n",
              "      <td>721</td>\n",
              "      <td>814</td>\n",
              "      <td>901</td>\n",
              "      <td>992</td>\n",
              "      <td>1043</td>\n",
              "      <td>1036</td>\n",
              "      <td>976</td>\n",
              "      <td>909</td>\n",
              "      <td>795</td>\n",
              "      <td>772</td>\n",
              "      <td>260</td>\n",
              "      <td>20806</td>\n",
              "    </tr>\n",
              "    <tr>\n",
              "      <th>5</th>\n",
              "      <td>20-34</td>\n",
              "      <td>1</td>\n",
              "      <td>10</td>\n",
              "      <td>26</td>\n",
              "      <td>64</td>\n",
              "      <td>259</td>\n",
              "      <td>590</td>\n",
              "      <td>1480</td>\n",
              "      <td>2410</td>\n",
              "      <td>3356</td>\n",
              "      <td>4916</td>\n",
              "      <td>6709</td>\n",
              "      <td>8299</td>\n",
              "      <td>9491</td>\n",
              "      <td>10152</td>\n",
              "      <td>11176</td>\n",
              "      <td>12615</td>\n",
              "      <td>13592</td>\n",
              "      <td>14625</td>\n",
              "      <td>12946</td>\n",
              "      <td>16822</td>\n",
              "      <td>15809</td>\n",
              "      <td>16929</td>\n",
              "      <td>16085</td>\n",
              "      <td>15829</td>\n",
              "      <td>15356</td>\n",
              "      <td>14898</td>\n",
              "      <td>15228</td>\n",
              "      <td>16121</td>\n",
              "      <td>16204</td>\n",
              "      <td>16258</td>\n",
              "      <td>16955</td>\n",
              "      <td>17085</td>\n",
              "      <td>17527</td>\n",
              "      <td>16943</td>\n",
              "      <td>16491</td>\n",
              "      <td>15677</td>\n",
              "      <td>15802</td>\n",
              "      <td>15323</td>\n",
              "      <td>15061</td>\n",
              "      <td>4985</td>\n",
              "      <td>440105</td>\n",
              "    </tr>\n",
              "    <tr>\n",
              "      <th>6</th>\n",
              "      <td>35-49</td>\n",
              "      <td>0</td>\n",
              "      <td>2</td>\n",
              "      <td>12</td>\n",
              "      <td>42</td>\n",
              "      <td>188</td>\n",
              "      <td>379</td>\n",
              "      <td>820</td>\n",
              "      <td>1292</td>\n",
              "      <td>1809</td>\n",
              "      <td>2574</td>\n",
              "      <td>3304</td>\n",
              "      <td>4289</td>\n",
              "      <td>4988</td>\n",
              "      <td>5685</td>\n",
              "      <td>6918</td>\n",
              "      <td>8017</td>\n",
              "      <td>8892</td>\n",
              "      <td>10259</td>\n",
              "      <td>9796</td>\n",
              "      <td>14311</td>\n",
              "      <td>13832</td>\n",
              "      <td>16015</td>\n",
              "      <td>15768</td>\n",
              "      <td>15991</td>\n",
              "      <td>16142</td>\n",
              "      <td>16109</td>\n",
              "      <td>16391</td>\n",
              "      <td>17165</td>\n",
              "      <td>16983</td>\n",
              "      <td>16430</td>\n",
              "      <td>17379</td>\n",
              "      <td>16738</td>\n",
              "      <td>16651</td>\n",
              "      <td>16117</td>\n",
              "      <td>15432</td>\n",
              "      <td>14845</td>\n",
              "      <td>13994</td>\n",
              "      <td>14035</td>\n",
              "      <td>13723</td>\n",
              "      <td>4330</td>\n",
              "      <td>387647</td>\n",
              "    </tr>\n",
              "    <tr>\n",
              "      <th>7</th>\n",
              "      <td>50-64</td>\n",
              "      <td>0</td>\n",
              "      <td>2</td>\n",
              "      <td>2</td>\n",
              "      <td>7</td>\n",
              "      <td>32</td>\n",
              "      <td>70</td>\n",
              "      <td>155</td>\n",
              "      <td>241</td>\n",
              "      <td>366</td>\n",
              "      <td>473</td>\n",
              "      <td>634</td>\n",
              "      <td>740</td>\n",
              "      <td>955</td>\n",
              "      <td>1000</td>\n",
              "      <td>1270</td>\n",
              "      <td>1439</td>\n",
              "      <td>1687</td>\n",
              "      <td>1989</td>\n",
              "      <td>1924</td>\n",
              "      <td>3027</td>\n",
              "      <td>2954</td>\n",
              "      <td>3498</td>\n",
              "      <td>3585</td>\n",
              "      <td>3914</td>\n",
              "      <td>4224</td>\n",
              "      <td>4287</td>\n",
              "      <td>4725</td>\n",
              "      <td>5418</td>\n",
              "      <td>5500</td>\n",
              "      <td>5644</td>\n",
              "      <td>5908</td>\n",
              "      <td>6072</td>\n",
              "      <td>6414</td>\n",
              "      <td>6406</td>\n",
              "      <td>6420</td>\n",
              "      <td>6329</td>\n",
              "      <td>6191</td>\n",
              "      <td>6215</td>\n",
              "      <td>6067</td>\n",
              "      <td>1880</td>\n",
              "      <td>117664</td>\n",
              "    </tr>\n",
              "    <tr>\n",
              "      <th>8</th>\n",
              "      <td>65-79</td>\n",
              "      <td>0</td>\n",
              "      <td>0</td>\n",
              "      <td>0</td>\n",
              "      <td>1</td>\n",
              "      <td>2</td>\n",
              "      <td>2</td>\n",
              "      <td>25</td>\n",
              "      <td>37</td>\n",
              "      <td>43</td>\n",
              "      <td>60</td>\n",
              "      <td>84</td>\n",
              "      <td>90</td>\n",
              "      <td>98</td>\n",
              "      <td>133</td>\n",
              "      <td>181</td>\n",
              "      <td>203</td>\n",
              "      <td>208</td>\n",
              "      <td>270</td>\n",
              "      <td>258</td>\n",
              "      <td>398</td>\n",
              "      <td>406</td>\n",
              "      <td>440</td>\n",
              "      <td>462</td>\n",
              "      <td>503</td>\n",
              "      <td>502</td>\n",
              "      <td>538</td>\n",
              "      <td>605</td>\n",
              "      <td>682</td>\n",
              "      <td>738</td>\n",
              "      <td>736</td>\n",
              "      <td>800</td>\n",
              "      <td>812</td>\n",
              "      <td>978</td>\n",
              "      <td>904</td>\n",
              "      <td>994</td>\n",
              "      <td>1010</td>\n",
              "      <td>1076</td>\n",
              "      <td>1145</td>\n",
              "      <td>1177</td>\n",
              "      <td>302</td>\n",
              "      <td>16903</td>\n",
              "    </tr>\n",
              "    <tr>\n",
              "      <th>9</th>\n",
              "      <td>80 e mais</td>\n",
              "      <td>0</td>\n",
              "      <td>0</td>\n",
              "      <td>0</td>\n",
              "      <td>1</td>\n",
              "      <td>0</td>\n",
              "      <td>0</td>\n",
              "      <td>2</td>\n",
              "      <td>1</td>\n",
              "      <td>3</td>\n",
              "      <td>5</td>\n",
              "      <td>1</td>\n",
              "      <td>3</td>\n",
              "      <td>5</td>\n",
              "      <td>4</td>\n",
              "      <td>5</td>\n",
              "      <td>4</td>\n",
              "      <td>4</td>\n",
              "      <td>11</td>\n",
              "      <td>16</td>\n",
              "      <td>19</td>\n",
              "      <td>23</td>\n",
              "      <td>21</td>\n",
              "      <td>18</td>\n",
              "      <td>29</td>\n",
              "      <td>30</td>\n",
              "      <td>31</td>\n",
              "      <td>36</td>\n",
              "      <td>45</td>\n",
              "      <td>41</td>\n",
              "      <td>35</td>\n",
              "      <td>55</td>\n",
              "      <td>63</td>\n",
              "      <td>65</td>\n",
              "      <td>72</td>\n",
              "      <td>64</td>\n",
              "      <td>75</td>\n",
              "      <td>82</td>\n",
              "      <td>94</td>\n",
              "      <td>85</td>\n",
              "      <td>19</td>\n",
              "      <td>1067</td>\n",
              "    </tr>\n",
              "    <tr>\n",
              "      <th>10</th>\n",
              "      <td>ignorado</td>\n",
              "      <td>0</td>\n",
              "      <td>0</td>\n",
              "      <td>1</td>\n",
              "      <td>1</td>\n",
              "      <td>5</td>\n",
              "      <td>6</td>\n",
              "      <td>10</td>\n",
              "      <td>13</td>\n",
              "      <td>3</td>\n",
              "      <td>16</td>\n",
              "      <td>18</td>\n",
              "      <td>20</td>\n",
              "      <td>22</td>\n",
              "      <td>18</td>\n",
              "      <td>31</td>\n",
              "      <td>6</td>\n",
              "      <td>7</td>\n",
              "      <td>7</td>\n",
              "      <td>5</td>\n",
              "      <td>1</td>\n",
              "      <td>1</td>\n",
              "      <td>1</td>\n",
              "      <td>0</td>\n",
              "      <td>1</td>\n",
              "      <td>3</td>\n",
              "      <td>0</td>\n",
              "      <td>0</td>\n",
              "      <td>1</td>\n",
              "      <td>0</td>\n",
              "      <td>0</td>\n",
              "      <td>0</td>\n",
              "      <td>1</td>\n",
              "      <td>0</td>\n",
              "      <td>0</td>\n",
              "      <td>0</td>\n",
              "      <td>0</td>\n",
              "      <td>0</td>\n",
              "      <td>0</td>\n",
              "      <td>0</td>\n",
              "      <td>0</td>\n",
              "      <td>198</td>\n",
              "    </tr>\n",
              "    <tr>\n",
              "      <th>11</th>\n",
              "      <td>Total</td>\n",
              "      <td>1</td>\n",
              "      <td>17</td>\n",
              "      <td>42</td>\n",
              "      <td>134</td>\n",
              "      <td>534</td>\n",
              "      <td>1120</td>\n",
              "      <td>2703</td>\n",
              "      <td>4348</td>\n",
              "      <td>6008</td>\n",
              "      <td>8650</td>\n",
              "      <td>11517</td>\n",
              "      <td>14237</td>\n",
              "      <td>16413</td>\n",
              "      <td>18028</td>\n",
              "      <td>20811</td>\n",
              "      <td>23670</td>\n",
              "      <td>25954</td>\n",
              "      <td>28838</td>\n",
              "      <td>26514</td>\n",
              "      <td>36483</td>\n",
              "      <td>34942</td>\n",
              "      <td>39398</td>\n",
              "      <td>38185</td>\n",
              "      <td>38355</td>\n",
              "      <td>38230</td>\n",
              "      <td>37643</td>\n",
              "      <td>38712</td>\n",
              "      <td>41225</td>\n",
              "      <td>41192</td>\n",
              "      <td>40775</td>\n",
              "      <td>42772</td>\n",
              "      <td>42480</td>\n",
              "      <td>43368</td>\n",
              "      <td>42135</td>\n",
              "      <td>40995</td>\n",
              "      <td>39425</td>\n",
              "      <td>38535</td>\n",
              "      <td>38040</td>\n",
              "      <td>37308</td>\n",
              "      <td>11880</td>\n",
              "      <td>1011617</td>\n",
              "    </tr>\n",
              "  </tbody>\n",
              "</table>\n",
              "</div>"
            ],
            "text/plain": [
              "   Fx. Etária(SINAN)  1980  1982  1983  ...   2018   2019   2020    Total\n",
              "0            < 1 ano     0     2     0  ...    128    144     36     8220\n",
              "1                1-4     0     0     0  ...    158    136     39    10110\n",
              "2                5-9     0     0     0  ...     79     88     18     5339\n",
              "3              10-14     0     1     0  ...     68     55     11     3558\n",
              "4              15-19     0     0     1  ...    795    772    260    20806\n",
              "5              20-34     1    10    26  ...  15323  15061   4985   440105\n",
              "6              35-49     0     2    12  ...  14035  13723   4330   387647\n",
              "7              50-64     0     2     2  ...   6215   6067   1880   117664\n",
              "8              65-79     0     0     0  ...   1145   1177    302    16903\n",
              "9          80 e mais     0     0     0  ...     94     85     19     1067\n",
              "10          ignorado     0     0     1  ...      0      0      0      198\n",
              "11             Total     1    17    42  ...  38040  37308  11880  1011617\n",
              "\n",
              "[12 rows x 42 columns]"
            ]
          },
          "metadata": {
            "tags": []
          },
          "execution_count": 4
        }
      ]
    },
    {
      "cell_type": "code",
      "metadata": {
        "colab": {
          "base_uri": "https://localhost:8080/",
          "height": 286
        },
        "id": "ebEzVOpw4xfK",
        "outputId": "f60b670d-81d7-431b-a75b-75c93564dbe6"
      },
      "source": [
        "df_raca"
      ],
      "execution_count": 5,
      "outputs": [
        {
          "output_type": "execute_result",
          "data": {
            "text/html": [
              "<div>\n",
              "<style scoped>\n",
              "    .dataframe tbody tr th:only-of-type {\n",
              "        vertical-align: middle;\n",
              "    }\n",
              "\n",
              "    .dataframe tbody tr th {\n",
              "        vertical-align: top;\n",
              "    }\n",
              "\n",
              "    .dataframe thead th {\n",
              "        text-align: right;\n",
              "    }\n",
              "</style>\n",
              "<table border=\"1\" class=\"dataframe\">\n",
              "  <thead>\n",
              "    <tr style=\"text-align: right;\">\n",
              "      <th></th>\n",
              "      <th>Raça/cor</th>\n",
              "      <th>1980</th>\n",
              "      <th>1982</th>\n",
              "      <th>1983</th>\n",
              "      <th>1984</th>\n",
              "      <th>1985</th>\n",
              "      <th>1986</th>\n",
              "      <th>1987</th>\n",
              "      <th>1988</th>\n",
              "      <th>1989</th>\n",
              "      <th>1990</th>\n",
              "      <th>1991</th>\n",
              "      <th>1992</th>\n",
              "      <th>1993</th>\n",
              "      <th>1994</th>\n",
              "      <th>1995</th>\n",
              "      <th>1996</th>\n",
              "      <th>1997</th>\n",
              "      <th>1998</th>\n",
              "      <th>1999</th>\n",
              "      <th>2000</th>\n",
              "      <th>2001</th>\n",
              "      <th>2002</th>\n",
              "      <th>2003</th>\n",
              "      <th>2004</th>\n",
              "      <th>2005</th>\n",
              "      <th>2006</th>\n",
              "      <th>2007</th>\n",
              "      <th>2008</th>\n",
              "      <th>2009</th>\n",
              "      <th>2010</th>\n",
              "      <th>2011</th>\n",
              "      <th>2012</th>\n",
              "      <th>2013</th>\n",
              "      <th>2014</th>\n",
              "      <th>2015</th>\n",
              "      <th>2016</th>\n",
              "      <th>2017</th>\n",
              "      <th>2018</th>\n",
              "      <th>2019</th>\n",
              "      <th>2020</th>\n",
              "      <th>Total</th>\n",
              "    </tr>\n",
              "  </thead>\n",
              "  <tbody>\n",
              "    <tr>\n",
              "      <th>0</th>\n",
              "      <td>Branca</td>\n",
              "      <td>0</td>\n",
              "      <td>4</td>\n",
              "      <td>1</td>\n",
              "      <td>4</td>\n",
              "      <td>8</td>\n",
              "      <td>18</td>\n",
              "      <td>28</td>\n",
              "      <td>38</td>\n",
              "      <td>40</td>\n",
              "      <td>69</td>\n",
              "      <td>87</td>\n",
              "      <td>118</td>\n",
              "      <td>137</td>\n",
              "      <td>194</td>\n",
              "      <td>290</td>\n",
              "      <td>461</td>\n",
              "      <td>588</td>\n",
              "      <td>860</td>\n",
              "      <td>891</td>\n",
              "      <td>9239</td>\n",
              "      <td>10460</td>\n",
              "      <td>12854</td>\n",
              "      <td>14333</td>\n",
              "      <td>13565</td>\n",
              "      <td>12955</td>\n",
              "      <td>12736</td>\n",
              "      <td>12840</td>\n",
              "      <td>13591</td>\n",
              "      <td>13456</td>\n",
              "      <td>13703</td>\n",
              "      <td>14163</td>\n",
              "      <td>13792</td>\n",
              "      <td>13164</td>\n",
              "      <td>11950</td>\n",
              "      <td>10833</td>\n",
              "      <td>9562</td>\n",
              "      <td>9010</td>\n",
              "      <td>7865</td>\n",
              "      <td>6581</td>\n",
              "      <td>1936</td>\n",
              "      <td>242424</td>\n",
              "    </tr>\n",
              "    <tr>\n",
              "      <th>1</th>\n",
              "      <td>Preta</td>\n",
              "      <td>0</td>\n",
              "      <td>1</td>\n",
              "      <td>0</td>\n",
              "      <td>1</td>\n",
              "      <td>2</td>\n",
              "      <td>0</td>\n",
              "      <td>5</td>\n",
              "      <td>7</td>\n",
              "      <td>5</td>\n",
              "      <td>6</td>\n",
              "      <td>12</td>\n",
              "      <td>18</td>\n",
              "      <td>18</td>\n",
              "      <td>21</td>\n",
              "      <td>26</td>\n",
              "      <td>56</td>\n",
              "      <td>74</td>\n",
              "      <td>132</td>\n",
              "      <td>130</td>\n",
              "      <td>1598</td>\n",
              "      <td>1911</td>\n",
              "      <td>2395</td>\n",
              "      <td>2911</td>\n",
              "      <td>3138</td>\n",
              "      <td>2952</td>\n",
              "      <td>2778</td>\n",
              "      <td>2943</td>\n",
              "      <td>3028</td>\n",
              "      <td>3011</td>\n",
              "      <td>3027</td>\n",
              "      <td>3104</td>\n",
              "      <td>3115</td>\n",
              "      <td>3103</td>\n",
              "      <td>2869</td>\n",
              "      <td>2676</td>\n",
              "      <td>2639</td>\n",
              "      <td>2461</td>\n",
              "      <td>2181</td>\n",
              "      <td>1915</td>\n",
              "      <td>541</td>\n",
              "      <td>54810</td>\n",
              "    </tr>\n",
              "    <tr>\n",
              "      <th>2</th>\n",
              "      <td>Amarela</td>\n",
              "      <td>0</td>\n",
              "      <td>0</td>\n",
              "      <td>0</td>\n",
              "      <td>0</td>\n",
              "      <td>0</td>\n",
              "      <td>0</td>\n",
              "      <td>0</td>\n",
              "      <td>1</td>\n",
              "      <td>0</td>\n",
              "      <td>0</td>\n",
              "      <td>0</td>\n",
              "      <td>0</td>\n",
              "      <td>3</td>\n",
              "      <td>1</td>\n",
              "      <td>1</td>\n",
              "      <td>3</td>\n",
              "      <td>1</td>\n",
              "      <td>5</td>\n",
              "      <td>5</td>\n",
              "      <td>118</td>\n",
              "      <td>91</td>\n",
              "      <td>121</td>\n",
              "      <td>158</td>\n",
              "      <td>146</td>\n",
              "      <td>182</td>\n",
              "      <td>152</td>\n",
              "      <td>170</td>\n",
              "      <td>128</td>\n",
              "      <td>136</td>\n",
              "      <td>141</td>\n",
              "      <td>151</td>\n",
              "      <td>150</td>\n",
              "      <td>130</td>\n",
              "      <td>118</td>\n",
              "      <td>113</td>\n",
              "      <td>106</td>\n",
              "      <td>104</td>\n",
              "      <td>111</td>\n",
              "      <td>116</td>\n",
              "      <td>34</td>\n",
              "      <td>2696</td>\n",
              "    </tr>\n",
              "    <tr>\n",
              "      <th>3</th>\n",
              "      <td>Parda</td>\n",
              "      <td>0</td>\n",
              "      <td>3</td>\n",
              "      <td>1</td>\n",
              "      <td>4</td>\n",
              "      <td>5</td>\n",
              "      <td>6</td>\n",
              "      <td>14</td>\n",
              "      <td>9</td>\n",
              "      <td>11</td>\n",
              "      <td>31</td>\n",
              "      <td>24</td>\n",
              "      <td>42</td>\n",
              "      <td>43</td>\n",
              "      <td>64</td>\n",
              "      <td>109</td>\n",
              "      <td>162</td>\n",
              "      <td>259</td>\n",
              "      <td>367</td>\n",
              "      <td>404</td>\n",
              "      <td>4106</td>\n",
              "      <td>4628</td>\n",
              "      <td>5922</td>\n",
              "      <td>6997</td>\n",
              "      <td>7697</td>\n",
              "      <td>8025</td>\n",
              "      <td>7927</td>\n",
              "      <td>8753</td>\n",
              "      <td>9524</td>\n",
              "      <td>10230</td>\n",
              "      <td>10848</td>\n",
              "      <td>11495</td>\n",
              "      <td>12272</td>\n",
              "      <td>13052</td>\n",
              "      <td>12491</td>\n",
              "      <td>11270</td>\n",
              "      <td>10332</td>\n",
              "      <td>10231</td>\n",
              "      <td>9539</td>\n",
              "      <td>8428</td>\n",
              "      <td>2474</td>\n",
              "      <td>187799</td>\n",
              "    </tr>\n",
              "    <tr>\n",
              "      <th>4</th>\n",
              "      <td>Indígena</td>\n",
              "      <td>0</td>\n",
              "      <td>0</td>\n",
              "      <td>1</td>\n",
              "      <td>0</td>\n",
              "      <td>0</td>\n",
              "      <td>0</td>\n",
              "      <td>0</td>\n",
              "      <td>0</td>\n",
              "      <td>0</td>\n",
              "      <td>1</td>\n",
              "      <td>0</td>\n",
              "      <td>1</td>\n",
              "      <td>0</td>\n",
              "      <td>0</td>\n",
              "      <td>0</td>\n",
              "      <td>0</td>\n",
              "      <td>0</td>\n",
              "      <td>2</td>\n",
              "      <td>2</td>\n",
              "      <td>62</td>\n",
              "      <td>55</td>\n",
              "      <td>38</td>\n",
              "      <td>41</td>\n",
              "      <td>42</td>\n",
              "      <td>45</td>\n",
              "      <td>55</td>\n",
              "      <td>92</td>\n",
              "      <td>68</td>\n",
              "      <td>82</td>\n",
              "      <td>105</td>\n",
              "      <td>93</td>\n",
              "      <td>105</td>\n",
              "      <td>87</td>\n",
              "      <td>74</td>\n",
              "      <td>79</td>\n",
              "      <td>83</td>\n",
              "      <td>75</td>\n",
              "      <td>73</td>\n",
              "      <td>60</td>\n",
              "      <td>24</td>\n",
              "      <td>1445</td>\n",
              "    </tr>\n",
              "    <tr>\n",
              "      <th>5</th>\n",
              "      <td>Ignorado</td>\n",
              "      <td>1</td>\n",
              "      <td>9</td>\n",
              "      <td>39</td>\n",
              "      <td>125</td>\n",
              "      <td>519</td>\n",
              "      <td>1096</td>\n",
              "      <td>2656</td>\n",
              "      <td>4293</td>\n",
              "      <td>5952</td>\n",
              "      <td>8543</td>\n",
              "      <td>11394</td>\n",
              "      <td>14058</td>\n",
              "      <td>16212</td>\n",
              "      <td>17748</td>\n",
              "      <td>20385</td>\n",
              "      <td>22988</td>\n",
              "      <td>25032</td>\n",
              "      <td>27472</td>\n",
              "      <td>25082</td>\n",
              "      <td>21360</td>\n",
              "      <td>17797</td>\n",
              "      <td>18068</td>\n",
              "      <td>13745</td>\n",
              "      <td>13767</td>\n",
              "      <td>14071</td>\n",
              "      <td>13995</td>\n",
              "      <td>13914</td>\n",
              "      <td>14886</td>\n",
              "      <td>14277</td>\n",
              "      <td>12951</td>\n",
              "      <td>13766</td>\n",
              "      <td>13046</td>\n",
              "      <td>13832</td>\n",
              "      <td>14633</td>\n",
              "      <td>16024</td>\n",
              "      <td>16703</td>\n",
              "      <td>16654</td>\n",
              "      <td>18271</td>\n",
              "      <td>20208</td>\n",
              "      <td>6871</td>\n",
              "      <td>522443</td>\n",
              "    </tr>\n",
              "    <tr>\n",
              "      <th>6</th>\n",
              "      <td>Total</td>\n",
              "      <td>1</td>\n",
              "      <td>17</td>\n",
              "      <td>42</td>\n",
              "      <td>134</td>\n",
              "      <td>534</td>\n",
              "      <td>1120</td>\n",
              "      <td>2703</td>\n",
              "      <td>4348</td>\n",
              "      <td>6008</td>\n",
              "      <td>8650</td>\n",
              "      <td>11517</td>\n",
              "      <td>14237</td>\n",
              "      <td>16413</td>\n",
              "      <td>18028</td>\n",
              "      <td>20811</td>\n",
              "      <td>23670</td>\n",
              "      <td>25954</td>\n",
              "      <td>28838</td>\n",
              "      <td>26514</td>\n",
              "      <td>36483</td>\n",
              "      <td>34942</td>\n",
              "      <td>39398</td>\n",
              "      <td>38185</td>\n",
              "      <td>38355</td>\n",
              "      <td>38230</td>\n",
              "      <td>37643</td>\n",
              "      <td>38712</td>\n",
              "      <td>41225</td>\n",
              "      <td>41192</td>\n",
              "      <td>40775</td>\n",
              "      <td>42772</td>\n",
              "      <td>42480</td>\n",
              "      <td>43368</td>\n",
              "      <td>42135</td>\n",
              "      <td>40995</td>\n",
              "      <td>39425</td>\n",
              "      <td>38535</td>\n",
              "      <td>38040</td>\n",
              "      <td>37308</td>\n",
              "      <td>11880</td>\n",
              "      <td>1011617</td>\n",
              "    </tr>\n",
              "  </tbody>\n",
              "</table>\n",
              "</div>"
            ],
            "text/plain": [
              "   Raça/cor  1980  1982  1983  1984  ...   2017   2018   2019   2020    Total\n",
              "0    Branca     0     4     1     4  ...   9010   7865   6581   1936   242424\n",
              "1     Preta     0     1     0     1  ...   2461   2181   1915    541    54810\n",
              "2   Amarela     0     0     0     0  ...    104    111    116     34     2696\n",
              "3     Parda     0     3     1     4  ...  10231   9539   8428   2474   187799\n",
              "4  Indígena     0     0     1     0  ...     75     73     60     24     1445\n",
              "5  Ignorado     1     9    39   125  ...  16654  18271  20208   6871   522443\n",
              "6     Total     1    17    42   134  ...  38535  38040  37308  11880  1011617\n",
              "\n",
              "[7 rows x 42 columns]"
            ]
          },
          "metadata": {
            "tags": []
          },
          "execution_count": 5
        }
      ]
    },
    {
      "cell_type": "code",
      "metadata": {
        "colab": {
          "base_uri": "https://localhost:8080/",
          "height": 210
        },
        "id": "8-o0kH-O5C0g",
        "outputId": "11b2752a-6936-4a24-f719-83f2603b4bb4"
      },
      "source": [
        "df_sexo"
      ],
      "execution_count": 6,
      "outputs": [
        {
          "output_type": "execute_result",
          "data": {
            "text/html": [
              "<div>\n",
              "<style scoped>\n",
              "    .dataframe tbody tr th:only-of-type {\n",
              "        vertical-align: middle;\n",
              "    }\n",
              "\n",
              "    .dataframe tbody tr th {\n",
              "        vertical-align: top;\n",
              "    }\n",
              "\n",
              "    .dataframe thead th {\n",
              "        text-align: right;\n",
              "    }\n",
              "</style>\n",
              "<table border=\"1\" class=\"dataframe\">\n",
              "  <thead>\n",
              "    <tr style=\"text-align: right;\">\n",
              "      <th></th>\n",
              "      <th>Sexo</th>\n",
              "      <th>1980</th>\n",
              "      <th>1982</th>\n",
              "      <th>1983</th>\n",
              "      <th>1984</th>\n",
              "      <th>1985</th>\n",
              "      <th>1986</th>\n",
              "      <th>1987</th>\n",
              "      <th>1988</th>\n",
              "      <th>1989</th>\n",
              "      <th>1990</th>\n",
              "      <th>1991</th>\n",
              "      <th>1992</th>\n",
              "      <th>1993</th>\n",
              "      <th>1994</th>\n",
              "      <th>1995</th>\n",
              "      <th>1996</th>\n",
              "      <th>1997</th>\n",
              "      <th>1998</th>\n",
              "      <th>1999</th>\n",
              "      <th>2000</th>\n",
              "      <th>2001</th>\n",
              "      <th>2002</th>\n",
              "      <th>2003</th>\n",
              "      <th>2004</th>\n",
              "      <th>2005</th>\n",
              "      <th>2006</th>\n",
              "      <th>2007</th>\n",
              "      <th>2008</th>\n",
              "      <th>2009</th>\n",
              "      <th>2010</th>\n",
              "      <th>2011</th>\n",
              "      <th>2012</th>\n",
              "      <th>2013</th>\n",
              "      <th>2014</th>\n",
              "      <th>2015</th>\n",
              "      <th>2016</th>\n",
              "      <th>2017</th>\n",
              "      <th>2018</th>\n",
              "      <th>2019</th>\n",
              "      <th>2020</th>\n",
              "      <th>Total</th>\n",
              "    </tr>\n",
              "  </thead>\n",
              "  <tbody>\n",
              "    <tr>\n",
              "      <th>0</th>\n",
              "      <td>Masculino</td>\n",
              "      <td>1</td>\n",
              "      <td>16</td>\n",
              "      <td>41</td>\n",
              "      <td>124</td>\n",
              "      <td>510</td>\n",
              "      <td>1050</td>\n",
              "      <td>2425</td>\n",
              "      <td>3753</td>\n",
              "      <td>5147</td>\n",
              "      <td>7296</td>\n",
              "      <td>9506</td>\n",
              "      <td>11376</td>\n",
              "      <td>12785</td>\n",
              "      <td>13762</td>\n",
              "      <td>15296</td>\n",
              "      <td>16710</td>\n",
              "      <td>17516</td>\n",
              "      <td>19041</td>\n",
              "      <td>17144</td>\n",
              "      <td>23663</td>\n",
              "      <td>22005</td>\n",
              "      <td>23859</td>\n",
              "      <td>23064</td>\n",
              "      <td>23029</td>\n",
              "      <td>22610</td>\n",
              "      <td>22310</td>\n",
              "      <td>23221</td>\n",
              "      <td>24705</td>\n",
              "      <td>24982</td>\n",
              "      <td>25302</td>\n",
              "      <td>26845</td>\n",
              "      <td>26965</td>\n",
              "      <td>28106</td>\n",
              "      <td>27806</td>\n",
              "      <td>27768</td>\n",
              "      <td>26979</td>\n",
              "      <td>26809</td>\n",
              "      <td>26619</td>\n",
              "      <td>26141</td>\n",
              "      <td>8434</td>\n",
              "      <td>664721</td>\n",
              "    </tr>\n",
              "    <tr>\n",
              "      <th>1</th>\n",
              "      <td>Feminino</td>\n",
              "      <td>0</td>\n",
              "      <td>1</td>\n",
              "      <td>1</td>\n",
              "      <td>10</td>\n",
              "      <td>24</td>\n",
              "      <td>70</td>\n",
              "      <td>278</td>\n",
              "      <td>595</td>\n",
              "      <td>861</td>\n",
              "      <td>1354</td>\n",
              "      <td>2010</td>\n",
              "      <td>2861</td>\n",
              "      <td>3628</td>\n",
              "      <td>4266</td>\n",
              "      <td>5515</td>\n",
              "      <td>6958</td>\n",
              "      <td>8437</td>\n",
              "      <td>9797</td>\n",
              "      <td>9369</td>\n",
              "      <td>12818</td>\n",
              "      <td>12936</td>\n",
              "      <td>15536</td>\n",
              "      <td>15115</td>\n",
              "      <td>15318</td>\n",
              "      <td>15616</td>\n",
              "      <td>15332</td>\n",
              "      <td>15487</td>\n",
              "      <td>16509</td>\n",
              "      <td>16205</td>\n",
              "      <td>15470</td>\n",
              "      <td>15924</td>\n",
              "      <td>15513</td>\n",
              "      <td>15256</td>\n",
              "      <td>14325</td>\n",
              "      <td>13219</td>\n",
              "      <td>12438</td>\n",
              "      <td>11717</td>\n",
              "      <td>11419</td>\n",
              "      <td>11161</td>\n",
              "      <td>3442</td>\n",
              "      <td>346791</td>\n",
              "    </tr>\n",
              "    <tr>\n",
              "      <th>2</th>\n",
              "      <td>Em Branco</td>\n",
              "      <td>0</td>\n",
              "      <td>0</td>\n",
              "      <td>0</td>\n",
              "      <td>0</td>\n",
              "      <td>0</td>\n",
              "      <td>0</td>\n",
              "      <td>0</td>\n",
              "      <td>0</td>\n",
              "      <td>0</td>\n",
              "      <td>0</td>\n",
              "      <td>1</td>\n",
              "      <td>0</td>\n",
              "      <td>0</td>\n",
              "      <td>0</td>\n",
              "      <td>0</td>\n",
              "      <td>2</td>\n",
              "      <td>1</td>\n",
              "      <td>0</td>\n",
              "      <td>1</td>\n",
              "      <td>2</td>\n",
              "      <td>1</td>\n",
              "      <td>3</td>\n",
              "      <td>6</td>\n",
              "      <td>8</td>\n",
              "      <td>4</td>\n",
              "      <td>1</td>\n",
              "      <td>4</td>\n",
              "      <td>11</td>\n",
              "      <td>5</td>\n",
              "      <td>3</td>\n",
              "      <td>3</td>\n",
              "      <td>2</td>\n",
              "      <td>6</td>\n",
              "      <td>4</td>\n",
              "      <td>8</td>\n",
              "      <td>8</td>\n",
              "      <td>9</td>\n",
              "      <td>2</td>\n",
              "      <td>6</td>\n",
              "      <td>4</td>\n",
              "      <td>105</td>\n",
              "    </tr>\n",
              "    <tr>\n",
              "      <th>3</th>\n",
              "      <td>Total</td>\n",
              "      <td>1</td>\n",
              "      <td>17</td>\n",
              "      <td>42</td>\n",
              "      <td>134</td>\n",
              "      <td>534</td>\n",
              "      <td>1120</td>\n",
              "      <td>2703</td>\n",
              "      <td>4348</td>\n",
              "      <td>6008</td>\n",
              "      <td>8650</td>\n",
              "      <td>11517</td>\n",
              "      <td>14237</td>\n",
              "      <td>16413</td>\n",
              "      <td>18028</td>\n",
              "      <td>20811</td>\n",
              "      <td>23670</td>\n",
              "      <td>25954</td>\n",
              "      <td>28838</td>\n",
              "      <td>26514</td>\n",
              "      <td>36483</td>\n",
              "      <td>34942</td>\n",
              "      <td>39398</td>\n",
              "      <td>38185</td>\n",
              "      <td>38355</td>\n",
              "      <td>38230</td>\n",
              "      <td>37643</td>\n",
              "      <td>38712</td>\n",
              "      <td>41225</td>\n",
              "      <td>41192</td>\n",
              "      <td>40775</td>\n",
              "      <td>42772</td>\n",
              "      <td>42480</td>\n",
              "      <td>43368</td>\n",
              "      <td>42135</td>\n",
              "      <td>40995</td>\n",
              "      <td>39425</td>\n",
              "      <td>38535</td>\n",
              "      <td>38040</td>\n",
              "      <td>37308</td>\n",
              "      <td>11880</td>\n",
              "      <td>1011617</td>\n",
              "    </tr>\n",
              "  </tbody>\n",
              "</table>\n",
              "</div>"
            ],
            "text/plain": [
              "        Sexo  1980  1982  1983  1984  ...   2017   2018   2019   2020    Total\n",
              "0  Masculino     1    16    41   124  ...  26809  26619  26141   8434   664721\n",
              "1   Feminino     0     1     1    10  ...  11717  11419  11161   3442   346791\n",
              "2  Em Branco     0     0     0     0  ...      9      2      6      4      105\n",
              "3      Total     1    17    42   134  ...  38535  38040  37308  11880  1011617\n",
              "\n",
              "[4 rows x 42 columns]"
            ]
          },
          "metadata": {
            "tags": []
          },
          "execution_count": 6
        }
      ]
    },
    {
      "cell_type": "code",
      "metadata": {
        "colab": {
          "base_uri": "https://localhost:8080/",
          "height": 430
        },
        "id": "4JJRCiV75Fg6",
        "outputId": "2f8f5dc8-d691-4d5c-bdb8-4dad149771c3"
      },
      "source": [
        "df_sex_evo"
      ],
      "execution_count": 7,
      "outputs": [
        {
          "output_type": "execute_result",
          "data": {
            "text/html": [
              "<div>\n",
              "<style scoped>\n",
              "    .dataframe tbody tr th:only-of-type {\n",
              "        vertical-align: middle;\n",
              "    }\n",
              "\n",
              "    .dataframe tbody tr th {\n",
              "        vertical-align: top;\n",
              "    }\n",
              "\n",
              "    .dataframe thead th {\n",
              "        text-align: right;\n",
              "    }\n",
              "</style>\n",
              "<table border=\"1\" class=\"dataframe\">\n",
              "  <thead>\n",
              "    <tr style=\"text-align: right;\">\n",
              "      <th></th>\n",
              "      <th>Categ Exp Hierar</th>\n",
              "      <th>1980</th>\n",
              "      <th>1982</th>\n",
              "      <th>1983</th>\n",
              "      <th>1984</th>\n",
              "      <th>1985</th>\n",
              "      <th>1986</th>\n",
              "      <th>1987</th>\n",
              "      <th>1988</th>\n",
              "      <th>1989</th>\n",
              "      <th>1990</th>\n",
              "      <th>1991</th>\n",
              "      <th>1992</th>\n",
              "      <th>1993</th>\n",
              "      <th>1994</th>\n",
              "      <th>1995</th>\n",
              "      <th>1996</th>\n",
              "      <th>1997</th>\n",
              "      <th>1998</th>\n",
              "      <th>1999</th>\n",
              "      <th>2000</th>\n",
              "      <th>2001</th>\n",
              "      <th>2002</th>\n",
              "      <th>2003</th>\n",
              "      <th>2004</th>\n",
              "      <th>2005</th>\n",
              "      <th>2006</th>\n",
              "      <th>2007</th>\n",
              "      <th>2008</th>\n",
              "      <th>2009</th>\n",
              "      <th>2010</th>\n",
              "      <th>2011</th>\n",
              "      <th>2012</th>\n",
              "      <th>2013</th>\n",
              "      <th>2014</th>\n",
              "      <th>2015</th>\n",
              "      <th>2016</th>\n",
              "      <th>2017</th>\n",
              "      <th>2018</th>\n",
              "      <th>2019</th>\n",
              "      <th>2020</th>\n",
              "      <th>Total</th>\n",
              "    </tr>\n",
              "  </thead>\n",
              "  <tbody>\n",
              "    <tr>\n",
              "      <th>0</th>\n",
              "      <td>Homossexual</td>\n",
              "      <td>0</td>\n",
              "      <td>6</td>\n",
              "      <td>18</td>\n",
              "      <td>62</td>\n",
              "      <td>254</td>\n",
              "      <td>523</td>\n",
              "      <td>1016</td>\n",
              "      <td>1384</td>\n",
              "      <td>1730</td>\n",
              "      <td>2094</td>\n",
              "      <td>2507</td>\n",
              "      <td>2844</td>\n",
              "      <td>2795</td>\n",
              "      <td>2948</td>\n",
              "      <td>2919</td>\n",
              "      <td>3224</td>\n",
              "      <td>3354</td>\n",
              "      <td>3539</td>\n",
              "      <td>3056</td>\n",
              "      <td>3040</td>\n",
              "      <td>2925</td>\n",
              "      <td>3121</td>\n",
              "      <td>3078</td>\n",
              "      <td>2989</td>\n",
              "      <td>2987</td>\n",
              "      <td>3059</td>\n",
              "      <td>3447</td>\n",
              "      <td>3869</td>\n",
              "      <td>4272</td>\n",
              "      <td>4758</td>\n",
              "      <td>5312</td>\n",
              "      <td>5846</td>\n",
              "      <td>6149</td>\n",
              "      <td>5971</td>\n",
              "      <td>5786</td>\n",
              "      <td>5482</td>\n",
              "      <td>5534</td>\n",
              "      <td>5093</td>\n",
              "      <td>4305</td>\n",
              "      <td>1242</td>\n",
              "      <td>122538</td>\n",
              "    </tr>\n",
              "    <tr>\n",
              "      <th>1</th>\n",
              "      <td>Bissexual</td>\n",
              "      <td>1</td>\n",
              "      <td>3</td>\n",
              "      <td>9</td>\n",
              "      <td>27</td>\n",
              "      <td>126</td>\n",
              "      <td>209</td>\n",
              "      <td>461</td>\n",
              "      <td>611</td>\n",
              "      <td>762</td>\n",
              "      <td>1068</td>\n",
              "      <td>1370</td>\n",
              "      <td>1670</td>\n",
              "      <td>1718</td>\n",
              "      <td>1862</td>\n",
              "      <td>1909</td>\n",
              "      <td>2002</td>\n",
              "      <td>2232</td>\n",
              "      <td>2195</td>\n",
              "      <td>1917</td>\n",
              "      <td>1801</td>\n",
              "      <td>1678</td>\n",
              "      <td>1738</td>\n",
              "      <td>1632</td>\n",
              "      <td>1728</td>\n",
              "      <td>1577</td>\n",
              "      <td>1453</td>\n",
              "      <td>1429</td>\n",
              "      <td>1456</td>\n",
              "      <td>1471</td>\n",
              "      <td>1543</td>\n",
              "      <td>1665</td>\n",
              "      <td>1608</td>\n",
              "      <td>1666</td>\n",
              "      <td>1516</td>\n",
              "      <td>1384</td>\n",
              "      <td>1270</td>\n",
              "      <td>1335</td>\n",
              "      <td>1178</td>\n",
              "      <td>1013</td>\n",
              "      <td>332</td>\n",
              "      <td>50625</td>\n",
              "    </tr>\n",
              "    <tr>\n",
              "      <th>2</th>\n",
              "      <td>Heterossexual</td>\n",
              "      <td>0</td>\n",
              "      <td>3</td>\n",
              "      <td>7</td>\n",
              "      <td>13</td>\n",
              "      <td>35</td>\n",
              "      <td>121</td>\n",
              "      <td>319</td>\n",
              "      <td>643</td>\n",
              "      <td>1017</td>\n",
              "      <td>1439</td>\n",
              "      <td>2313</td>\n",
              "      <td>3401</td>\n",
              "      <td>4666</td>\n",
              "      <td>5632</td>\n",
              "      <td>7324</td>\n",
              "      <td>9199</td>\n",
              "      <td>11584</td>\n",
              "      <td>14019</td>\n",
              "      <td>13649</td>\n",
              "      <td>15051</td>\n",
              "      <td>15563</td>\n",
              "      <td>16691</td>\n",
              "      <td>17126</td>\n",
              "      <td>16874</td>\n",
              "      <td>16432</td>\n",
              "      <td>15682</td>\n",
              "      <td>15764</td>\n",
              "      <td>16847</td>\n",
              "      <td>16965</td>\n",
              "      <td>17388</td>\n",
              "      <td>17887</td>\n",
              "      <td>17799</td>\n",
              "      <td>17704</td>\n",
              "      <td>15797</td>\n",
              "      <td>13956</td>\n",
              "      <td>12486</td>\n",
              "      <td>11920</td>\n",
              "      <td>10676</td>\n",
              "      <td>9290</td>\n",
              "      <td>2654</td>\n",
              "      <td>385936</td>\n",
              "    </tr>\n",
              "    <tr>\n",
              "      <th>3</th>\n",
              "      <td>UDI</td>\n",
              "      <td>0</td>\n",
              "      <td>3</td>\n",
              "      <td>2</td>\n",
              "      <td>13</td>\n",
              "      <td>44</td>\n",
              "      <td>114</td>\n",
              "      <td>489</td>\n",
              "      <td>978</td>\n",
              "      <td>1575</td>\n",
              "      <td>2618</td>\n",
              "      <td>3626</td>\n",
              "      <td>4204</td>\n",
              "      <td>4582</td>\n",
              "      <td>4385</td>\n",
              "      <td>4492</td>\n",
              "      <td>4651</td>\n",
              "      <td>4566</td>\n",
              "      <td>4488</td>\n",
              "      <td>3644</td>\n",
              "      <td>3419</td>\n",
              "      <td>2963</td>\n",
              "      <td>2759</td>\n",
              "      <td>2532</td>\n",
              "      <td>2122</td>\n",
              "      <td>1743</td>\n",
              "      <td>1597</td>\n",
              "      <td>1453</td>\n",
              "      <td>1336</td>\n",
              "      <td>1295</td>\n",
              "      <td>1162</td>\n",
              "      <td>1143</td>\n",
              "      <td>983</td>\n",
              "      <td>902</td>\n",
              "      <td>754</td>\n",
              "      <td>678</td>\n",
              "      <td>551</td>\n",
              "      <td>451</td>\n",
              "      <td>442</td>\n",
              "      <td>363</td>\n",
              "      <td>98</td>\n",
              "      <td>73220</td>\n",
              "    </tr>\n",
              "    <tr>\n",
              "      <th>4</th>\n",
              "      <td>Hemofílico</td>\n",
              "      <td>0</td>\n",
              "      <td>0</td>\n",
              "      <td>1</td>\n",
              "      <td>8</td>\n",
              "      <td>23</td>\n",
              "      <td>45</td>\n",
              "      <td>82</td>\n",
              "      <td>107</td>\n",
              "      <td>99</td>\n",
              "      <td>116</td>\n",
              "      <td>104</td>\n",
              "      <td>76</td>\n",
              "      <td>73</td>\n",
              "      <td>68</td>\n",
              "      <td>68</td>\n",
              "      <td>82</td>\n",
              "      <td>79</td>\n",
              "      <td>44</td>\n",
              "      <td>26</td>\n",
              "      <td>21</td>\n",
              "      <td>26</td>\n",
              "      <td>17</td>\n",
              "      <td>15</td>\n",
              "      <td>12</td>\n",
              "      <td>12</td>\n",
              "      <td>15</td>\n",
              "      <td>10</td>\n",
              "      <td>13</td>\n",
              "      <td>6</td>\n",
              "      <td>8</td>\n",
              "      <td>6</td>\n",
              "      <td>7</td>\n",
              "      <td>5</td>\n",
              "      <td>4</td>\n",
              "      <td>9</td>\n",
              "      <td>2</td>\n",
              "      <td>4</td>\n",
              "      <td>7</td>\n",
              "      <td>2</td>\n",
              "      <td>3</td>\n",
              "      <td>1305</td>\n",
              "    </tr>\n",
              "    <tr>\n",
              "      <th>5</th>\n",
              "      <td>Transfusão</td>\n",
              "      <td>0</td>\n",
              "      <td>0</td>\n",
              "      <td>0</td>\n",
              "      <td>0</td>\n",
              "      <td>6</td>\n",
              "      <td>21</td>\n",
              "      <td>72</td>\n",
              "      <td>115</td>\n",
              "      <td>113</td>\n",
              "      <td>155</td>\n",
              "      <td>198</td>\n",
              "      <td>225</td>\n",
              "      <td>248</td>\n",
              "      <td>220</td>\n",
              "      <td>277</td>\n",
              "      <td>269</td>\n",
              "      <td>156</td>\n",
              "      <td>31</td>\n",
              "      <td>14</td>\n",
              "      <td>16</td>\n",
              "      <td>22</td>\n",
              "      <td>13</td>\n",
              "      <td>17</td>\n",
              "      <td>43</td>\n",
              "      <td>28</td>\n",
              "      <td>26</td>\n",
              "      <td>16</td>\n",
              "      <td>9</td>\n",
              "      <td>11</td>\n",
              "      <td>8</td>\n",
              "      <td>8</td>\n",
              "      <td>8</td>\n",
              "      <td>5</td>\n",
              "      <td>5</td>\n",
              "      <td>5</td>\n",
              "      <td>3</td>\n",
              "      <td>2</td>\n",
              "      <td>6</td>\n",
              "      <td>3</td>\n",
              "      <td>0</td>\n",
              "      <td>2374</td>\n",
              "    </tr>\n",
              "    <tr>\n",
              "      <th>6</th>\n",
              "      <td>Acid. Material Biológico</td>\n",
              "      <td>0</td>\n",
              "      <td>0</td>\n",
              "      <td>0</td>\n",
              "      <td>0</td>\n",
              "      <td>0</td>\n",
              "      <td>0</td>\n",
              "      <td>0</td>\n",
              "      <td>0</td>\n",
              "      <td>0</td>\n",
              "      <td>0</td>\n",
              "      <td>0</td>\n",
              "      <td>0</td>\n",
              "      <td>0</td>\n",
              "      <td>0</td>\n",
              "      <td>0</td>\n",
              "      <td>1</td>\n",
              "      <td>0</td>\n",
              "      <td>0</td>\n",
              "      <td>0</td>\n",
              "      <td>0</td>\n",
              "      <td>2</td>\n",
              "      <td>0</td>\n",
              "      <td>0</td>\n",
              "      <td>1</td>\n",
              "      <td>0</td>\n",
              "      <td>2</td>\n",
              "      <td>0</td>\n",
              "      <td>0</td>\n",
              "      <td>2</td>\n",
              "      <td>1</td>\n",
              "      <td>5</td>\n",
              "      <td>2</td>\n",
              "      <td>2</td>\n",
              "      <td>0</td>\n",
              "      <td>1</td>\n",
              "      <td>0</td>\n",
              "      <td>1</td>\n",
              "      <td>2</td>\n",
              "      <td>1</td>\n",
              "      <td>0</td>\n",
              "      <td>23</td>\n",
              "    </tr>\n",
              "    <tr>\n",
              "      <th>7</th>\n",
              "      <td>Transmissão Vertical</td>\n",
              "      <td>0</td>\n",
              "      <td>0</td>\n",
              "      <td>0</td>\n",
              "      <td>0</td>\n",
              "      <td>2</td>\n",
              "      <td>2</td>\n",
              "      <td>33</td>\n",
              "      <td>73</td>\n",
              "      <td>109</td>\n",
              "      <td>155</td>\n",
              "      <td>232</td>\n",
              "      <td>306</td>\n",
              "      <td>353</td>\n",
              "      <td>519</td>\n",
              "      <td>646</td>\n",
              "      <td>850</td>\n",
              "      <td>956</td>\n",
              "      <td>962</td>\n",
              "      <td>924</td>\n",
              "      <td>864</td>\n",
              "      <td>887</td>\n",
              "      <td>844</td>\n",
              "      <td>852</td>\n",
              "      <td>695</td>\n",
              "      <td>696</td>\n",
              "      <td>592</td>\n",
              "      <td>602</td>\n",
              "      <td>651</td>\n",
              "      <td>588</td>\n",
              "      <td>595</td>\n",
              "      <td>563</td>\n",
              "      <td>585</td>\n",
              "      <td>530</td>\n",
              "      <td>497</td>\n",
              "      <td>424</td>\n",
              "      <td>410</td>\n",
              "      <td>366</td>\n",
              "      <td>297</td>\n",
              "      <td>250</td>\n",
              "      <td>66</td>\n",
              "      <td>17976</td>\n",
              "    </tr>\n",
              "    <tr>\n",
              "      <th>8</th>\n",
              "      <td>Ignorado</td>\n",
              "      <td>0</td>\n",
              "      <td>2</td>\n",
              "      <td>5</td>\n",
              "      <td>11</td>\n",
              "      <td>44</td>\n",
              "      <td>85</td>\n",
              "      <td>231</td>\n",
              "      <td>437</td>\n",
              "      <td>603</td>\n",
              "      <td>1005</td>\n",
              "      <td>1167</td>\n",
              "      <td>1511</td>\n",
              "      <td>1978</td>\n",
              "      <td>2394</td>\n",
              "      <td>3176</td>\n",
              "      <td>3392</td>\n",
              "      <td>3027</td>\n",
              "      <td>3560</td>\n",
              "      <td>3284</td>\n",
              "      <td>12271</td>\n",
              "      <td>10876</td>\n",
              "      <td>14215</td>\n",
              "      <td>12933</td>\n",
              "      <td>13891</td>\n",
              "      <td>14755</td>\n",
              "      <td>15217</td>\n",
              "      <td>15991</td>\n",
              "      <td>17044</td>\n",
              "      <td>16582</td>\n",
              "      <td>15312</td>\n",
              "      <td>16183</td>\n",
              "      <td>15642</td>\n",
              "      <td>16405</td>\n",
              "      <td>17591</td>\n",
              "      <td>18752</td>\n",
              "      <td>19221</td>\n",
              "      <td>18922</td>\n",
              "      <td>20339</td>\n",
              "      <td>22081</td>\n",
              "      <td>7485</td>\n",
              "      <td>357620</td>\n",
              "    </tr>\n",
              "    <tr>\n",
              "      <th>9</th>\n",
              "      <td>Total</td>\n",
              "      <td>1</td>\n",
              "      <td>17</td>\n",
              "      <td>42</td>\n",
              "      <td>134</td>\n",
              "      <td>534</td>\n",
              "      <td>1120</td>\n",
              "      <td>2703</td>\n",
              "      <td>4348</td>\n",
              "      <td>6008</td>\n",
              "      <td>8650</td>\n",
              "      <td>11517</td>\n",
              "      <td>14237</td>\n",
              "      <td>16413</td>\n",
              "      <td>18028</td>\n",
              "      <td>20811</td>\n",
              "      <td>23670</td>\n",
              "      <td>25954</td>\n",
              "      <td>28838</td>\n",
              "      <td>26514</td>\n",
              "      <td>36483</td>\n",
              "      <td>34942</td>\n",
              "      <td>39398</td>\n",
              "      <td>38185</td>\n",
              "      <td>38355</td>\n",
              "      <td>38230</td>\n",
              "      <td>37643</td>\n",
              "      <td>38712</td>\n",
              "      <td>41225</td>\n",
              "      <td>41192</td>\n",
              "      <td>40775</td>\n",
              "      <td>42772</td>\n",
              "      <td>42480</td>\n",
              "      <td>43368</td>\n",
              "      <td>42135</td>\n",
              "      <td>40995</td>\n",
              "      <td>39425</td>\n",
              "      <td>38535</td>\n",
              "      <td>38040</td>\n",
              "      <td>37308</td>\n",
              "      <td>11880</td>\n",
              "      <td>1011617</td>\n",
              "    </tr>\n",
              "  </tbody>\n",
              "</table>\n",
              "</div>"
            ],
            "text/plain": [
              "           Categ Exp Hierar  1980  1982  1983  ...   2018   2019   2020    Total\n",
              "0               Homossexual     0     6    18  ...   5093   4305   1242   122538\n",
              "1                 Bissexual     1     3     9  ...   1178   1013    332    50625\n",
              "2             Heterossexual     0     3     7  ...  10676   9290   2654   385936\n",
              "3                       UDI     0     3     2  ...    442    363     98    73220\n",
              "4                Hemofílico     0     0     1  ...      7      2      3     1305\n",
              "5                Transfusão     0     0     0  ...      6      3      0     2374\n",
              "6  Acid. Material Biológico     0     0     0  ...      2      1      0       23\n",
              "7      Transmissão Vertical     0     0     0  ...    297    250     66    17976\n",
              "8                  Ignorado     0     2     5  ...  20339  22081   7485   357620\n",
              "9                     Total     1    17    42  ...  38040  37308  11880  1011617\n",
              "\n",
              "[10 rows x 42 columns]"
            ]
          },
          "metadata": {
            "tags": []
          },
          "execution_count": 7
        }
      ]
    },
    {
      "cell_type": "code",
      "metadata": {
        "colab": {
          "base_uri": "https://localhost:8080/",
          "height": 948
        },
        "id": "7fd1TCES5GzA",
        "outputId": "3d4cada0-acb4-4a57-ccc1-48d9e451e54c"
      },
      "source": [
        "df_sexualidade"
      ],
      "execution_count": 8,
      "outputs": [
        {
          "output_type": "execute_result",
          "data": {
            "text/html": [
              "<div>\n",
              "<style scoped>\n",
              "    .dataframe tbody tr th:only-of-type {\n",
              "        vertical-align: middle;\n",
              "    }\n",
              "\n",
              "    .dataframe tbody tr th {\n",
              "        vertical-align: top;\n",
              "    }\n",
              "\n",
              "    .dataframe thead th {\n",
              "        text-align: right;\n",
              "    }\n",
              "</style>\n",
              "<table border=\"1\" class=\"dataframe\">\n",
              "  <thead>\n",
              "    <tr style=\"text-align: right;\">\n",
              "      <th></th>\n",
              "      <th>UF Notificação</th>\n",
              "      <th>Homossexual</th>\n",
              "      <th>Bissexual</th>\n",
              "      <th>Heterossexual</th>\n",
              "      <th>UDI</th>\n",
              "      <th>Hemofílico</th>\n",
              "      <th>Transfusão</th>\n",
              "      <th>Acid. Material Biológico</th>\n",
              "      <th>Transmissão Vertical</th>\n",
              "      <th>Ignorado</th>\n",
              "      <th>Total</th>\n",
              "    </tr>\n",
              "  </thead>\n",
              "  <tbody>\n",
              "    <tr>\n",
              "      <th>0</th>\n",
              "      <td>Ignorado/Em Branco</td>\n",
              "      <td>0</td>\n",
              "      <td>0</td>\n",
              "      <td>0</td>\n",
              "      <td>0</td>\n",
              "      <td>0</td>\n",
              "      <td>0</td>\n",
              "      <td>0</td>\n",
              "      <td>0</td>\n",
              "      <td>19228</td>\n",
              "      <td>19228</td>\n",
              "    </tr>\n",
              "    <tr>\n",
              "      <th>1</th>\n",
              "      <td>Rondônia</td>\n",
              "      <td>51</td>\n",
              "      <td>20</td>\n",
              "      <td>114</td>\n",
              "      <td>6</td>\n",
              "      <td>0</td>\n",
              "      <td>0</td>\n",
              "      <td>0</td>\n",
              "      <td>4</td>\n",
              "      <td>6</td>\n",
              "      <td>201</td>\n",
              "    </tr>\n",
              "    <tr>\n",
              "      <th>2</th>\n",
              "      <td>Acre</td>\n",
              "      <td>19</td>\n",
              "      <td>6</td>\n",
              "      <td>25</td>\n",
              "      <td>0</td>\n",
              "      <td>0</td>\n",
              "      <td>0</td>\n",
              "      <td>0</td>\n",
              "      <td>0</td>\n",
              "      <td>0</td>\n",
              "      <td>50</td>\n",
              "    </tr>\n",
              "    <tr>\n",
              "      <th>3</th>\n",
              "      <td>Amazonas</td>\n",
              "      <td>169</td>\n",
              "      <td>59</td>\n",
              "      <td>410</td>\n",
              "      <td>19</td>\n",
              "      <td>0</td>\n",
              "      <td>0</td>\n",
              "      <td>0</td>\n",
              "      <td>18</td>\n",
              "      <td>54</td>\n",
              "      <td>729</td>\n",
              "    </tr>\n",
              "    <tr>\n",
              "      <th>4</th>\n",
              "      <td>Roraima</td>\n",
              "      <td>41</td>\n",
              "      <td>13</td>\n",
              "      <td>121</td>\n",
              "      <td>2</td>\n",
              "      <td>0</td>\n",
              "      <td>0</td>\n",
              "      <td>0</td>\n",
              "      <td>4</td>\n",
              "      <td>16</td>\n",
              "      <td>197</td>\n",
              "    </tr>\n",
              "    <tr>\n",
              "      <th>5</th>\n",
              "      <td>Pará</td>\n",
              "      <td>142</td>\n",
              "      <td>43</td>\n",
              "      <td>393</td>\n",
              "      <td>17</td>\n",
              "      <td>0</td>\n",
              "      <td>0</td>\n",
              "      <td>0</td>\n",
              "      <td>19</td>\n",
              "      <td>65</td>\n",
              "      <td>679</td>\n",
              "    </tr>\n",
              "    <tr>\n",
              "      <th>6</th>\n",
              "      <td>Amapá</td>\n",
              "      <td>20</td>\n",
              "      <td>6</td>\n",
              "      <td>52</td>\n",
              "      <td>0</td>\n",
              "      <td>0</td>\n",
              "      <td>0</td>\n",
              "      <td>0</td>\n",
              "      <td>3</td>\n",
              "      <td>14</td>\n",
              "      <td>95</td>\n",
              "    </tr>\n",
              "    <tr>\n",
              "      <th>7</th>\n",
              "      <td>Tocantins</td>\n",
              "      <td>22</td>\n",
              "      <td>2</td>\n",
              "      <td>35</td>\n",
              "      <td>1</td>\n",
              "      <td>0</td>\n",
              "      <td>0</td>\n",
              "      <td>0</td>\n",
              "      <td>2</td>\n",
              "      <td>8</td>\n",
              "      <td>70</td>\n",
              "    </tr>\n",
              "    <tr>\n",
              "      <th>8</th>\n",
              "      <td>Maranhão</td>\n",
              "      <td>62</td>\n",
              "      <td>15</td>\n",
              "      <td>323</td>\n",
              "      <td>4</td>\n",
              "      <td>0</td>\n",
              "      <td>0</td>\n",
              "      <td>0</td>\n",
              "      <td>17</td>\n",
              "      <td>25</td>\n",
              "      <td>446</td>\n",
              "    </tr>\n",
              "    <tr>\n",
              "      <th>9</th>\n",
              "      <td>Piauí</td>\n",
              "      <td>52</td>\n",
              "      <td>29</td>\n",
              "      <td>121</td>\n",
              "      <td>4</td>\n",
              "      <td>0</td>\n",
              "      <td>0</td>\n",
              "      <td>0</td>\n",
              "      <td>6</td>\n",
              "      <td>31</td>\n",
              "      <td>243</td>\n",
              "    </tr>\n",
              "    <tr>\n",
              "      <th>10</th>\n",
              "      <td>Ceará</td>\n",
              "      <td>162</td>\n",
              "      <td>23</td>\n",
              "      <td>316</td>\n",
              "      <td>6</td>\n",
              "      <td>0</td>\n",
              "      <td>0</td>\n",
              "      <td>0</td>\n",
              "      <td>7</td>\n",
              "      <td>362</td>\n",
              "      <td>876</td>\n",
              "    </tr>\n",
              "    <tr>\n",
              "      <th>11</th>\n",
              "      <td>Rio Grande do Norte</td>\n",
              "      <td>79</td>\n",
              "      <td>32</td>\n",
              "      <td>152</td>\n",
              "      <td>5</td>\n",
              "      <td>0</td>\n",
              "      <td>0</td>\n",
              "      <td>0</td>\n",
              "      <td>2</td>\n",
              "      <td>59</td>\n",
              "      <td>329</td>\n",
              "    </tr>\n",
              "    <tr>\n",
              "      <th>12</th>\n",
              "      <td>Paraíba</td>\n",
              "      <td>69</td>\n",
              "      <td>6</td>\n",
              "      <td>175</td>\n",
              "      <td>7</td>\n",
              "      <td>0</td>\n",
              "      <td>0</td>\n",
              "      <td>0</td>\n",
              "      <td>10</td>\n",
              "      <td>125</td>\n",
              "      <td>392</td>\n",
              "    </tr>\n",
              "    <tr>\n",
              "      <th>13</th>\n",
              "      <td>Pernambuco</td>\n",
              "      <td>176</td>\n",
              "      <td>54</td>\n",
              "      <td>413</td>\n",
              "      <td>4</td>\n",
              "      <td>1</td>\n",
              "      <td>1</td>\n",
              "      <td>1</td>\n",
              "      <td>14</td>\n",
              "      <td>147</td>\n",
              "      <td>811</td>\n",
              "    </tr>\n",
              "    <tr>\n",
              "      <th>14</th>\n",
              "      <td>Alagoas</td>\n",
              "      <td>58</td>\n",
              "      <td>16</td>\n",
              "      <td>145</td>\n",
              "      <td>0</td>\n",
              "      <td>0</td>\n",
              "      <td>0</td>\n",
              "      <td>0</td>\n",
              "      <td>6</td>\n",
              "      <td>101</td>\n",
              "      <td>326</td>\n",
              "    </tr>\n",
              "    <tr>\n",
              "      <th>15</th>\n",
              "      <td>Sergipe</td>\n",
              "      <td>57</td>\n",
              "      <td>23</td>\n",
              "      <td>163</td>\n",
              "      <td>6</td>\n",
              "      <td>0</td>\n",
              "      <td>0</td>\n",
              "      <td>0</td>\n",
              "      <td>1</td>\n",
              "      <td>16</td>\n",
              "      <td>266</td>\n",
              "    </tr>\n",
              "    <tr>\n",
              "      <th>16</th>\n",
              "      <td>Bahia</td>\n",
              "      <td>118</td>\n",
              "      <td>27</td>\n",
              "      <td>285</td>\n",
              "      <td>13</td>\n",
              "      <td>0</td>\n",
              "      <td>0</td>\n",
              "      <td>0</td>\n",
              "      <td>14</td>\n",
              "      <td>88</td>\n",
              "      <td>545</td>\n",
              "    </tr>\n",
              "    <tr>\n",
              "      <th>17</th>\n",
              "      <td>Minas Gerais</td>\n",
              "      <td>278</td>\n",
              "      <td>50</td>\n",
              "      <td>455</td>\n",
              "      <td>36</td>\n",
              "      <td>0</td>\n",
              "      <td>0</td>\n",
              "      <td>0</td>\n",
              "      <td>9</td>\n",
              "      <td>221</td>\n",
              "      <td>1049</td>\n",
              "    </tr>\n",
              "    <tr>\n",
              "      <th>18</th>\n",
              "      <td>Espírito Santo</td>\n",
              "      <td>75</td>\n",
              "      <td>8</td>\n",
              "      <td>169</td>\n",
              "      <td>3</td>\n",
              "      <td>1</td>\n",
              "      <td>0</td>\n",
              "      <td>0</td>\n",
              "      <td>4</td>\n",
              "      <td>35</td>\n",
              "      <td>295</td>\n",
              "    </tr>\n",
              "    <tr>\n",
              "      <th>19</th>\n",
              "      <td>Rio de Janeiro</td>\n",
              "      <td>256</td>\n",
              "      <td>64</td>\n",
              "      <td>471</td>\n",
              "      <td>19</td>\n",
              "      <td>0</td>\n",
              "      <td>1</td>\n",
              "      <td>0</td>\n",
              "      <td>34</td>\n",
              "      <td>358</td>\n",
              "      <td>1203</td>\n",
              "    </tr>\n",
              "    <tr>\n",
              "      <th>20</th>\n",
              "      <td>São Paulo</td>\n",
              "      <td>1248</td>\n",
              "      <td>255</td>\n",
              "      <td>1715</td>\n",
              "      <td>74</td>\n",
              "      <td>0</td>\n",
              "      <td>0</td>\n",
              "      <td>0</td>\n",
              "      <td>26</td>\n",
              "      <td>423</td>\n",
              "      <td>3741</td>\n",
              "    </tr>\n",
              "    <tr>\n",
              "      <th>21</th>\n",
              "      <td>Paraná</td>\n",
              "      <td>277</td>\n",
              "      <td>65</td>\n",
              "      <td>514</td>\n",
              "      <td>17</td>\n",
              "      <td>0</td>\n",
              "      <td>0</td>\n",
              "      <td>0</td>\n",
              "      <td>6</td>\n",
              "      <td>86</td>\n",
              "      <td>965</td>\n",
              "    </tr>\n",
              "    <tr>\n",
              "      <th>22</th>\n",
              "      <td>Santa Catarina</td>\n",
              "      <td>235</td>\n",
              "      <td>56</td>\n",
              "      <td>747</td>\n",
              "      <td>25</td>\n",
              "      <td>0</td>\n",
              "      <td>0</td>\n",
              "      <td>0</td>\n",
              "      <td>13</td>\n",
              "      <td>33</td>\n",
              "      <td>1109</td>\n",
              "    </tr>\n",
              "    <tr>\n",
              "      <th>23</th>\n",
              "      <td>Rio Grande do Sul</td>\n",
              "      <td>224</td>\n",
              "      <td>71</td>\n",
              "      <td>1173</td>\n",
              "      <td>55</td>\n",
              "      <td>0</td>\n",
              "      <td>0</td>\n",
              "      <td>0</td>\n",
              "      <td>15</td>\n",
              "      <td>370</td>\n",
              "      <td>1908</td>\n",
              "    </tr>\n",
              "    <tr>\n",
              "      <th>24</th>\n",
              "      <td>Mato Grosso do Sul</td>\n",
              "      <td>55</td>\n",
              "      <td>10</td>\n",
              "      <td>215</td>\n",
              "      <td>5</td>\n",
              "      <td>0</td>\n",
              "      <td>0</td>\n",
              "      <td>0</td>\n",
              "      <td>2</td>\n",
              "      <td>27</td>\n",
              "      <td>314</td>\n",
              "    </tr>\n",
              "    <tr>\n",
              "      <th>25</th>\n",
              "      <td>Mato Grosso</td>\n",
              "      <td>76</td>\n",
              "      <td>16</td>\n",
              "      <td>230</td>\n",
              "      <td>11</td>\n",
              "      <td>0</td>\n",
              "      <td>0</td>\n",
              "      <td>0</td>\n",
              "      <td>8</td>\n",
              "      <td>19</td>\n",
              "      <td>360</td>\n",
              "    </tr>\n",
              "    <tr>\n",
              "      <th>26</th>\n",
              "      <td>Goiás</td>\n",
              "      <td>145</td>\n",
              "      <td>16</td>\n",
              "      <td>250</td>\n",
              "      <td>16</td>\n",
              "      <td>0</td>\n",
              "      <td>0</td>\n",
              "      <td>0</td>\n",
              "      <td>3</td>\n",
              "      <td>119</td>\n",
              "      <td>549</td>\n",
              "    </tr>\n",
              "    <tr>\n",
              "      <th>27</th>\n",
              "      <td>Distrito Federal</td>\n",
              "      <td>139</td>\n",
              "      <td>28</td>\n",
              "      <td>108</td>\n",
              "      <td>8</td>\n",
              "      <td>0</td>\n",
              "      <td>1</td>\n",
              "      <td>0</td>\n",
              "      <td>3</td>\n",
              "      <td>45</td>\n",
              "      <td>332</td>\n",
              "    </tr>\n",
              "    <tr>\n",
              "      <th>28</th>\n",
              "      <td>Total</td>\n",
              "      <td>4305</td>\n",
              "      <td>1013</td>\n",
              "      <td>9290</td>\n",
              "      <td>363</td>\n",
              "      <td>2</td>\n",
              "      <td>3</td>\n",
              "      <td>1</td>\n",
              "      <td>250</td>\n",
              "      <td>22081</td>\n",
              "      <td>37308</td>\n",
              "    </tr>\n",
              "  </tbody>\n",
              "</table>\n",
              "</div>"
            ],
            "text/plain": [
              "         UF Notificação  Homossexual  ...  Ignorado  Total\n",
              "0    Ignorado/Em Branco            0  ...     19228  19228\n",
              "1              Rondônia           51  ...         6    201\n",
              "2                  Acre           19  ...         0     50\n",
              "3              Amazonas          169  ...        54    729\n",
              "4               Roraima           41  ...        16    197\n",
              "5                  Pará          142  ...        65    679\n",
              "6                 Amapá           20  ...        14     95\n",
              "7             Tocantins           22  ...         8     70\n",
              "8              Maranhão           62  ...        25    446\n",
              "9                 Piauí           52  ...        31    243\n",
              "10                Ceará          162  ...       362    876\n",
              "11  Rio Grande do Norte           79  ...        59    329\n",
              "12              Paraíba           69  ...       125    392\n",
              "13           Pernambuco          176  ...       147    811\n",
              "14              Alagoas           58  ...       101    326\n",
              "15              Sergipe           57  ...        16    266\n",
              "16                Bahia          118  ...        88    545\n",
              "17         Minas Gerais          278  ...       221   1049\n",
              "18       Espírito Santo           75  ...        35    295\n",
              "19       Rio de Janeiro          256  ...       358   1203\n",
              "20            São Paulo         1248  ...       423   3741\n",
              "21               Paraná          277  ...        86    965\n",
              "22       Santa Catarina          235  ...        33   1109\n",
              "23    Rio Grande do Sul          224  ...       370   1908\n",
              "24   Mato Grosso do Sul           55  ...        27    314\n",
              "25          Mato Grosso           76  ...        19    360\n",
              "26                Goiás          145  ...       119    549\n",
              "27     Distrito Federal          139  ...        45    332\n",
              "28                Total         4305  ...     22081  37308\n",
              "\n",
              "[29 rows x 11 columns]"
            ]
          },
          "metadata": {
            "tags": []
          },
          "execution_count": 8
        }
      ]
    },
    {
      "cell_type": "code",
      "metadata": {
        "colab": {
          "base_uri": "https://localhost:8080/",
          "height": 80
        },
        "id": "1Es7LoLE5P5H",
        "outputId": "f7cca38e-c6bb-4328-a5fe-f01bede6f7f7"
      },
      "source": [
        "df_obitos"
      ],
      "execution_count": 9,
      "outputs": [
        {
          "output_type": "execute_result",
          "data": {
            "text/html": [
              "<div>\n",
              "<style scoped>\n",
              "    .dataframe tbody tr th:only-of-type {\n",
              "        vertical-align: middle;\n",
              "    }\n",
              "\n",
              "    .dataframe tbody tr th {\n",
              "        vertical-align: top;\n",
              "    }\n",
              "\n",
              "    .dataframe thead th {\n",
              "        text-align: right;\n",
              "    }\n",
              "</style>\n",
              "<table border=\"1\" class=\"dataframe\">\n",
              "  <thead>\n",
              "    <tr style=\"text-align: right;\">\n",
              "      <th></th>\n",
              "      <th>Forma organização</th>\n",
              "      <th>2008</th>\n",
              "      <th>2009</th>\n",
              "      <th>2010</th>\n",
              "      <th>2011</th>\n",
              "      <th>2012</th>\n",
              "      <th>2013</th>\n",
              "      <th>2014</th>\n",
              "      <th>2015</th>\n",
              "      <th>2016</th>\n",
              "      <th>2017</th>\n",
              "      <th>2018</th>\n",
              "      <th>2019</th>\n",
              "      <th>Total</th>\n",
              "    </tr>\n",
              "  </thead>\n",
              "  <tbody>\n",
              "    <tr>\n",
              "      <th>0</th>\n",
              "      <td>030318 Tratamento HIV/Aids</td>\n",
              "      <td>4391</td>\n",
              "      <td>4902</td>\n",
              "      <td>4862</td>\n",
              "      <td>4411</td>\n",
              "      <td>4185</td>\n",
              "      <td>4303</td>\n",
              "      <td>4123</td>\n",
              "      <td>4131</td>\n",
              "      <td>3937</td>\n",
              "      <td>3492</td>\n",
              "      <td>3196</td>\n",
              "      <td>3058</td>\n",
              "      <td>48991</td>\n",
              "    </tr>\n",
              "  </tbody>\n",
              "</table>\n",
              "</div>"
            ],
            "text/plain": [
              "            Forma organização  2008  2009  2010  ...  2017  2018  2019  Total\n",
              "0  030318 Tratamento HIV/Aids  4391  4902  4862  ...  3492  3196  3058  48991\n",
              "\n",
              "[1 rows x 14 columns]"
            ]
          },
          "metadata": {
            "tags": []
          },
          "execution_count": 9
        }
      ]
    },
    {
      "cell_type": "code",
      "metadata": {
        "colab": {
          "base_uri": "https://localhost:8080/",
          "height": 151
        },
        "id": "zLX4XNy-5Tcd",
        "outputId": "1e2db074-b634-45ce-a31a-c155dc5ce74d"
      },
      "source": [
        "df_gastos"
      ],
      "execution_count": 10,
      "outputs": [
        {
          "output_type": "execute_result",
          "data": {
            "text/html": [
              "<div>\n",
              "<style scoped>\n",
              "    .dataframe tbody tr th:only-of-type {\n",
              "        vertical-align: middle;\n",
              "    }\n",
              "\n",
              "    .dataframe tbody tr th {\n",
              "        vertical-align: top;\n",
              "    }\n",
              "\n",
              "    .dataframe thead th {\n",
              "        text-align: right;\n",
              "    }\n",
              "</style>\n",
              "<table border=\"1\" class=\"dataframe\">\n",
              "  <thead>\n",
              "    <tr style=\"text-align: right;\">\n",
              "      <th></th>\n",
              "      <th>Forma organização</th>\n",
              "      <th>2008</th>\n",
              "      <th>2009</th>\n",
              "      <th>2010</th>\n",
              "      <th>2011</th>\n",
              "      <th>2012</th>\n",
              "      <th>2013</th>\n",
              "      <th>2014</th>\n",
              "      <th>2015</th>\n",
              "      <th>2016</th>\n",
              "      <th>2017</th>\n",
              "      <th>2018</th>\n",
              "      <th>2019</th>\n",
              "      <th>Total</th>\n",
              "    </tr>\n",
              "  </thead>\n",
              "  <tbody>\n",
              "    <tr>\n",
              "      <th>0</th>\n",
              "      <td>030318 Tratamento HIV/Aids</td>\n",
              "      <td>26726579.17</td>\n",
              "      <td>36039338.86</td>\n",
              "      <td>36710715.56</td>\n",
              "      <td>35262692.81</td>\n",
              "      <td>37223093.48</td>\n",
              "      <td>40041730.57</td>\n",
              "      <td>41020743.62</td>\n",
              "      <td>43036555.48</td>\n",
              "      <td>41889466.25</td>\n",
              "      <td>40896929.9</td>\n",
              "      <td>39745015.66</td>\n",
              "      <td>40481022.68</td>\n",
              "      <td>4.590739e+08</td>\n",
              "    </tr>\n",
              "  </tbody>\n",
              "</table>\n",
              "</div>"
            ],
            "text/plain": [
              "            Forma organização         2008  ...         2019         Total\n",
              "0  030318 Tratamento HIV/Aids  26726579.17  ...  40481022.68  4.590739e+08\n",
              "\n",
              "[1 rows x 14 columns]"
            ]
          },
          "metadata": {
            "tags": []
          },
          "execution_count": 10
        }
      ]
    },
    {
      "cell_type": "markdown",
      "metadata": {
        "id": "-8sBh_JAfts2"
      },
      "source": [
        "***\n",
        "#LIMPANDO AS BASES\n",
        "***"
      ]
    },
    {
      "cell_type": "markdown",
      "metadata": {
        "id": "5Hgbrl5-8Wf3"
      },
      "source": [
        "Agora que já analisamos as bases, vamos fazer a limpeza retirando as linhas e colunas que não fazem sentidos para nossa análise. \n",
        "Iremos utilizar o `.drop` da biblioteca pandas e utilizaremos os parâmetros `index ` e `columns` para indicar quais queremos dropar, como também o `inplace = True`  para salvar as alterações  feitas. \n",
        "\n",
        "Vamos excluir todos os totais, colunas e linhas que não fazem parte dessa análise."
      ]
    },
    {
      "cell_type": "code",
      "metadata": {
        "id": "o8ADRN385IZA"
      },
      "source": [
        "df_escolaridade.drop(index=[10, 9, 7,5, 2], columns=['Total','2020'], inplace= True)                        \n",
        "df_etária.drop(index=[0,1,2,3,9,10, 11], columns=['Total','2020'], inplace= True)\n",
        "df_raca.drop(index=[5, 6], columns=['Total','2020'], inplace= True)\n",
        "df_sexo.drop(index=[2, 3], columns=['Total','2020'], inplace= True)\n",
        "df_sex_evo.drop(index=[3,4,5,6,7,8,9], columns=['Total','2020'], inplace= True)\n",
        "df_sexualidade.drop(index=[28,0], columns=['Total','Ignorado', 'UDI',\t'Hemofílico',\t'Transfusão',\n",
        "                                         'Acid. Material Biológico',\t'Transmissão Vertical'], inplace= True)\n",
        "df_obitos.drop( columns=['Total'], inplace= True)\n",
        "df_gastos.drop( columns=['Total'], inplace= True)"
      ],
      "execution_count": 11,
      "outputs": []
    },
    {
      "cell_type": "markdown",
      "metadata": {
        "id": "j3kn4NnufyFW"
      },
      "source": [
        "***\n",
        "#LEVANTAMENTO DE HIPÓTESES\n",
        "***"
      ]
    },
    {
      "cell_type": "markdown",
      "metadata": {
        "id": "z2Iv16EQ8Ddm"
      },
      "source": [
        ""
      ]
    },
    {
      "cell_type": "markdown",
      "metadata": {
        "id": "_KvcmDm95hsO"
      },
      "source": [
        "***\n",
        "#CRIAÇÃO DAS VISUALIZAÇÕES\n",
        "***"
      ]
    },
    {
      "cell_type": "markdown",
      "metadata": {
        "id": "KIRSV--FCg1Y"
      },
      "source": [
        "##HIPOTESE 1: Em 2019 teve mais casos de HIV em homossexuais do que em heterossexuais."
      ]
    },
    {
      "cell_type": "code",
      "metadata": {
        "id": "Qdx72gOO9-PA"
      },
      "source": [
        "opção_sex = df_sexualidade[['UF Notificação','Heterossexual', 'Homossexual', 'Bissexual']].sort_values(by = 'Heterossexual', ascending = False)"
      ],
      "execution_count": 12,
      "outputs": []
    },
    {
      "cell_type": "code",
      "metadata": {
        "colab": {
          "base_uri": "https://localhost:8080/",
          "height": 0
        },
        "id": "1gfNDZef8QrT",
        "outputId": "ef80babf-4e63-47ba-99b1-396c4c0fa254"
      },
      "source": [
        "colors = ['#070e10','#ad36ed','#809bce']\n",
        "plt.style.use('seaborn')\n",
        "opção_sex.plot(x ='UF Notificação',\n",
        "                    kind=\"bar\", figsize =(15,6), color = colors, alpha =0.8 )\n",
        "plt.title(\"Ano do Positivo : 2019\")\n",
        "plt.suptitle(\"Quantidade de Testes positivos para HIV nos estados por Orientação Sexual\", size=20, weight='bold' )\n",
        "plt.xticks(rotation=80)\n",
        "plt.xlabel(\"Estados\", size = 15)\n",
        "plt.show()"
      ],
      "execution_count": 13,
      "outputs": [
        {
          "output_type": "display_data",
          "data": {
            "image/png": "[encoded data removed]",
            "text/plain": [
              "<Figure size 1080x432 with 1 Axes>"
            ]
          },
          "metadata": {
            "tags": []
          }
        }
      ]
    },
    {
      "cell_type": "code",
      "metadata": {
        "colab": {
          "base_uri": "https://localhost:8080/"
        },
        "id": "gAnmOx-NDDuI",
        "outputId": "8db26629-96e7-48a1-a229-45c83e058151"
      },
      "source": [
        "opção_sex.sum()"
      ],
      "execution_count": 14,
      "outputs": [
        {
          "output_type": "execute_result",
          "data": {
            "text/plain": [
              "UF Notificação    São PauloRio Grande do SulSanta CatarinaParaná...\n",
              "Heterossexual                                                  9290\n",
              "Homossexual                                                    4305\n",
              "Bissexual                                                      1013\n",
              "dtype: object"
            ]
          },
          "metadata": {
            "tags": []
          },
          "execution_count": 14
        }
      ]
    },
    {
      "cell_type": "markdown",
      "metadata": {
        "id": "8s5UZtkmClS4"
      },
      "source": [
        "##HIPOTESE 2: Na década de 90 os Homossexuais foram os que mais  adquiriram HIV/AIDS"
      ]
    },
    {
      "cell_type": "code",
      "metadata": {
        "id": "yNBy-vetd7_d"
      },
      "source": [
        ""
      ],
      "execution_count": 14,
      "outputs": []
    },
    {
      "cell_type": "code",
      "metadata": {
        "id": "5VeUuCna7_QQ"
      },
      "source": [
        "evo_sex  = df_sex_evo.set_index('Categ Exp Hierar')"
      ],
      "execution_count": 15,
      "outputs": []
    },
    {
      "cell_type": "code",
      "metadata": {
        "colab": {
          "base_uri": "https://localhost:8080/"
        },
        "id": "OdrTa8j9AZaQ",
        "outputId": "c502ffeb-e768-4309-f29e-75f6cef84a39"
      },
      "source": [
        "evo_sex['2000']"
      ],
      "execution_count": 16,
      "outputs": [
        {
          "output_type": "execute_result",
          "data": {
            "text/plain": [
              "Categ Exp Hierar\n",
              "Homossexual       3040\n",
              "Bissexual         1801\n",
              "Heterossexual    15051\n",
              "Name: 2000, dtype: int64"
            ]
          },
          "metadata": {
            "tags": []
          },
          "execution_count": 16
        }
      ]
    },
    {
      "cell_type": "code",
      "metadata": {
        "colab": {
          "base_uri": "https://localhost:8080/",
          "height": 417
        },
        "id": "T87EbCzi_cgX",
        "outputId": "4d1ad99b-382a-460b-8ba5-53e80cac66cd"
      },
      "source": [
        "colors2 = ['#ad36ed','#809bce','#070e10']\n",
        "ax = evo_sex.T.plot(alpha=0.8, figsize =(15,6), color = colors2 )\n",
        "ax.grid(color='b', linestyle='-', linewidth=1, alpha = 0.1)\n",
        "plt.title(\"1980 até 2019\")\n",
        "plt.suptitle(\"Evolução dos casos de HIV por Orientação Sexual\", size=20, weight='bold' )\n",
        "ax.legend()\n",
        "plt.show()"
      ],
      "execution_count": 17,
      "outputs": [
        {
          "output_type": "display_data",
          "data": {
            "image/png": "[encoded data removed]",
            "text/plain": [
              "<Figure size 1080x432 with 1 Axes>"
            ]
          },
          "metadata": {
            "tags": []
          }
        }
      ]
    },
    {
      "cell_type": "markdown",
      "metadata": {
        "id": "3JaXZUw2BQC5"
      },
      "source": [
        "tratamento para todos \n",
        "\n",
        "http://www.aids.gov.br/pt-br/centrais-de-conteudos/historia-aids-linha-do-tempo\n",
        "http://www.aids.gov.br/pt-br/noticias/ministerio-da-saude-estende-tratamento-para-todos-com-hiv\n"
      ]
    },
    {
      "cell_type": "code",
      "metadata": {
        "id": "OujHpjTUCOSt"
      },
      "source": [
        "df_sex_evo['desc'] = 1 - (df_sex_evo['2019'] / df_sex_evo['2013'])"
      ],
      "execution_count": 18,
      "outputs": []
    },
    {
      "cell_type": "code",
      "metadata": {
        "colab": {
          "base_uri": "https://localhost:8080/",
          "height": 142
        },
        "id": "0A8tE2d6Bgm4",
        "outputId": "61ef0da2-4bf4-455c-9d9f-cadb25ad008d"
      },
      "source": [
        "df_sex_evo.iloc[0:, -8:]\n",
        "# Zero = Homossexual\n",
        "# Um = Bissexual\t\n",
        "# Dois =  Heterossexual\t"
      ],
      "execution_count": 19,
      "outputs": [
        {
          "output_type": "execute_result",
          "data": {
            "text/html": [
              "<div>\n",
              "<style scoped>\n",
              "    .dataframe tbody tr th:only-of-type {\n",
              "        vertical-align: middle;\n",
              "    }\n",
              "\n",
              "    .dataframe tbody tr th {\n",
              "        vertical-align: top;\n",
              "    }\n",
              "\n",
              "    .dataframe thead th {\n",
              "        text-align: right;\n",
              "    }\n",
              "</style>\n",
              "<table border=\"1\" class=\"dataframe\">\n",
              "  <thead>\n",
              "    <tr style=\"text-align: right;\">\n",
              "      <th></th>\n",
              "      <th>2013</th>\n",
              "      <th>2014</th>\n",
              "      <th>2015</th>\n",
              "      <th>2016</th>\n",
              "      <th>2017</th>\n",
              "      <th>2018</th>\n",
              "      <th>2019</th>\n",
              "      <th>desc</th>\n",
              "    </tr>\n",
              "  </thead>\n",
              "  <tbody>\n",
              "    <tr>\n",
              "      <th>0</th>\n",
              "      <td>6149</td>\n",
              "      <td>5971</td>\n",
              "      <td>5786</td>\n",
              "      <td>5482</td>\n",
              "      <td>5534</td>\n",
              "      <td>5093</td>\n",
              "      <td>4305</td>\n",
              "      <td>0.299886</td>\n",
              "    </tr>\n",
              "    <tr>\n",
              "      <th>1</th>\n",
              "      <td>1666</td>\n",
              "      <td>1516</td>\n",
              "      <td>1384</td>\n",
              "      <td>1270</td>\n",
              "      <td>1335</td>\n",
              "      <td>1178</td>\n",
              "      <td>1013</td>\n",
              "      <td>0.391957</td>\n",
              "    </tr>\n",
              "    <tr>\n",
              "      <th>2</th>\n",
              "      <td>17704</td>\n",
              "      <td>15797</td>\n",
              "      <td>13956</td>\n",
              "      <td>12486</td>\n",
              "      <td>11920</td>\n",
              "      <td>10676</td>\n",
              "      <td>9290</td>\n",
              "      <td>0.475260</td>\n",
              "    </tr>\n",
              "  </tbody>\n",
              "</table>\n",
              "</div>"
            ],
            "text/plain": [
              "    2013   2014   2015   2016   2017   2018  2019      desc\n",
              "0   6149   5971   5786   5482   5534   5093  4305  0.299886\n",
              "1   1666   1516   1384   1270   1335   1178  1013  0.391957\n",
              "2  17704  15797  13956  12486  11920  10676  9290  0.475260"
            ]
          },
          "metadata": {
            "tags": []
          },
          "execution_count": 19
        }
      ]
    },
    {
      "cell_type": "markdown",
      "metadata": {
        "id": "f88MIug9Cd5u"
      },
      "source": [
        ""
      ]
    },
    {
      "cell_type": "code",
      "metadata": {
        "colab": {
          "base_uri": "https://localhost:8080/"
        },
        "id": "2fmyKk6aBltT",
        "outputId": "6f03748f-5fd7-42aa-f9b6-541f00117c25"
      },
      "source": [
        "desc_hetero = 1 - (9290/17704)\n",
        "desc_hetero = round(desc_hetero,4)*100\n",
        "print(desc_hetero, \"%\")"
      ],
      "execution_count": 20,
      "outputs": [
        {
          "output_type": "stream",
          "text": [
            "47.53 %\n"
          ],
          "name": "stdout"
        }
      ]
    },
    {
      "cell_type": "markdown",
      "metadata": {
        "id": "OT_vVJ3wCa2w"
      },
      "source": [
        "##HIPOTESE 3: A maioria dos casos de HIV/AIDS são em pessoas pardas."
      ]
    },
    {
      "cell_type": "markdown",
      "metadata": {
        "id": "Cq3XGqBheuGn"
      },
      "source": [
        "Vamos mudar o índice na nossa coluna, utilizando o .set_index, assim, facilitando  a construção do nosso gráfico."
      ]
    },
    {
      "cell_type": "code",
      "metadata": {
        "id": "E3cx1Q0ZDse5"
      },
      "source": [
        "evo_raca  = df_raca.set_index('Raça/cor')\n"
      ],
      "execution_count": 21,
      "outputs": []
    },
    {
      "cell_type": "markdown",
      "metadata": {
        "id": "lxnZ-f_geHhc"
      },
      "source": [
        "Para validar essa hipótese vamos verificar os dados do nosso dataset."
      ]
    },
    {
      "cell_type": "code",
      "metadata": {
        "colab": {
          "base_uri": "https://localhost:8080/",
          "height": 417
        },
        "id": "cuqRHL5_R0JN",
        "outputId": "9100e03b-49d0-4cd6-d100-aebb8e6070c1"
      },
      "source": [
        "colors6 = ['green','#2D1E18','#e5cb2f','#aba5a2','red']\n",
        "ax = evo_raca.T.plot(alpha=0.8, figsize =(15,6), color = colors6)\n",
        "ax.grid(color='b', linestyle='-', linewidth=1, alpha = 0.1)\n",
        "plt.title(\"1980 até 2019\")\n",
        "plt.suptitle(\"Evolução dos casos de HIV por Raça\", size=20, weight='bold' )\n",
        "ax.legend()\n",
        "plt.show()"
      ],
      "execution_count": 22,
      "outputs": [
        {
          "output_type": "display_data",
          "data": {
            "image/png": "[encoded data removed]",
            "text/plain": [
              "<Figure size 1080x432 with 1 Axes>"
            ]
          },
          "metadata": {
            "tags": []
          }
        }
      ]
    },
    {
      "cell_type": "markdown",
      "metadata": {
        "id": "PC2YUxOCeX--"
      },
      "source": [
        "Veja no gráfico acima que possui muitos zeros, podendo prejudicar nossa análise, por isso vamos considerar apenas os dados de 2020 para frente, para isso vamos dropar as colunas que não serão utilizadas."
      ]
    },
    {
      "cell_type": "code",
      "metadata": {
        "id": "QmduUJtMRxx0"
      },
      "source": [
        "evo_raca.drop(columns=['1980'\t,'1982',\t'1983',\t'1984',\t'1985',\t'1986',\t'1987',\t'1988',\t\n",
        "               '1989',\t'1990',\t'1991'\t,'1992',\t'1993'\t,'1994'\t,'1995'\t,'1996',\n",
        "               '1997',\t'1998',\t'1999'], inplace=True)"
      ],
      "execution_count": 23,
      "outputs": []
    },
    {
      "cell_type": "markdown",
      "metadata": {
        "id": "7_DFkZjwefnr"
      },
      "source": [
        "Vamos plotar novamente e analisar o resultado obtido."
      ]
    },
    {
      "cell_type": "code",
      "metadata": {
        "colab": {
          "base_uri": "https://localhost:8080/",
          "height": 417
        },
        "id": "Vi0kxrr4SQyE",
        "outputId": "0536fa70-80c9-4fc7-d89a-e2fa6b07a7a6"
      },
      "source": [
        "ax = evo_raca.T.plot(alpha=0.8, figsize =(15,6), color = colors6)\n",
        "ax.grid(color='b', linestyle='-', linewidth=1, alpha = 0.1 )\n",
        "plt.title(\"2000 até 2019\")\n",
        "plt.suptitle(\"Evolução dos casos de HIV por Raça\", size=20, weight='bold')\n",
        "ax.legend()\n",
        "plt.show()"
      ],
      "execution_count": 24,
      "outputs": [
        {
          "output_type": "display_data",
          "data": {
            "image/png": "[encoded data removed]",
            "text/plain": [
              "<Figure size 1080x432 with 1 Axes>"
            ]
          },
          "metadata": {
            "tags": []
          }
        }
      ]
    },
    {
      "cell_type": "markdown",
      "metadata": {
        "id": "ltFNE0Uie5AK"
      },
      "source": [
        "Conforme o gráfico em meados de 2013 teve uma grande queda já visto em outros gráficos, mas, o que é mais interessante é a o aumento dos casos em pessoas **pardas**, creio que esse aumento é o esclarecimento da cor parda para a população, pois no começo de 2000 as pessoas** não entendiam** ou não se **identificavam** como **parda** por falta de **entendimento** do termo. Então conseguimos ver esse crescimento nos casos de pessoas pardas e a diminuição nos casos de pessoas brancas. \n",
        "\n",
        "Para saber mais sobre pardos [Clique Aqui](https://pt.wikipedia.org/wiki/Pardos#:~:text=A%20categoria%20%22pardo%22%20foi%20usada,os%20pretos%2019%2C7%25)\n",
        "\n",
        "Entre 1991 e 2000, os pardos decresceram de 42,4% para 38,5%. Em 2010, aumentaram para 43,1%. O contínuo crescimento da população parda durante o século XX é descrito por alguns como o fenômeno da **\"pardização\"** do Brasil. Para o Instituto Brasileiro de Geografia e Estatística, o crescimento das pessoas que se dizem pardas ou pretas reflete a \"revalorização da identidade de grupos raciais historicamente discriminados\".\n",
        "\n"
      ]
    },
    {
      "cell_type": "markdown",
      "metadata": {
        "id": "bezb2vLaDtBp"
      },
      "source": [
        "##HIPOTESE 4: Os novos casos de HIV/AIDS ocorrem mais em pessoas com 1° a 4 ° série incompletas."
      ]
    },
    {
      "cell_type": "markdown",
      "metadata": {
        "id": "_8DhKKvFfxxE"
      },
      "source": [
        "Agora vamos verificar os nossos dados de escolaridade dos diagnosticados com HIV."
      ]
    },
    {
      "cell_type": "markdown",
      "metadata": {
        "id": "i4F0Ivfaf2aG"
      },
      "source": [
        "Como fizemos no gráfico acima, vamos colocar a coluna Escolaridade como index da nossa tabela, visando a construção da visualização mais fácil."
      ]
    },
    {
      "cell_type": "code",
      "metadata": {
        "id": "ZE8NiR8yEJTd"
      },
      "source": [
        "evo_esco  = df_escolaridade.set_index('Escolaridade')"
      ],
      "execution_count": 25,
      "outputs": []
    },
    {
      "cell_type": "code",
      "metadata": {
        "colab": {
          "base_uri": "https://localhost:8080/",
          "height": 417
        },
        "id": "R2UH3vBOSuST",
        "outputId": "2d3db953-99f1-45b0-d2f0-a6b16c3442c6"
      },
      "source": [
        "colors7 = ['blue','red','#264653','#b544ed','#43d3e0', 'orange']\n",
        "ax = evo_esco.T.plot(alpha=0.8, figsize =(15,6), color = colors7 )\n",
        "ax.grid(color='b', linestyle='-', linewidth=1, alpha = 0.1)\n",
        "plt.title(\"1980 até 2019\")\n",
        "plt.suptitle(\"Evolução dos casos de HIV por Escolaridade\", size=20, weight='bold' )\n",
        "ax.legend()\n",
        "plt.show()"
      ],
      "execution_count": 26,
      "outputs": [
        {
          "output_type": "display_data",
          "data": {
            "image/png": "[encoded data removed]",
            "text/plain": [
              "<Figure size 1080x432 with 1 Axes>"
            ]
          },
          "metadata": {
            "tags": []
          }
        }
      ]
    },
    {
      "cell_type": "markdown",
      "metadata": {
        "id": "h2CoXsUvf6d8"
      },
      "source": [
        "Veja o gráfico, assim está dá para analisar os dados, mas vamos focar em alguns pontos específicos. "
      ]
    },
    {
      "cell_type": "code",
      "metadata": {
        "colab": {
          "base_uri": "https://localhost:8080/",
          "height": 417
        },
        "id": "0Yr6mUKqSxlu",
        "outputId": "d194658d-8a57-4206-8299-4e64b42d06c8"
      },
      "source": [
        "colors5 = ['#d1cfcf','red','#264653','#d1cfcf', '#d1cfcf', '#d1cfcf']\n",
        "ax = evo_esco.T.plot(alpha=0.8, figsize =(15,6),color = colors5, marker = ',')\n",
        "ax.grid(color='b', linestyle='-', linewidth=1, alpha = 0.1)\n",
        "plt.title(\"1980 até 2019\")\n",
        "plt.suptitle(\"Evolução dos casos de HIV por Escolaridade\", size=20, weight='bold' )\n",
        "ax.legend()\n",
        "plt.show()"
      ],
      "execution_count": 27,
      "outputs": [
        {
          "output_type": "display_data",
          "data": {
            "image/png": "[encoded data removed]",
            "text/plain": [
              "<Figure size 1080x432 with 1 Axes>"
            ]
          },
          "metadata": {
            "tags": []
          }
        }
      ]
    },
    {
      "cell_type": "markdown",
      "metadata": {
        "id": "oAyZT-MLf-5t"
      },
      "source": [
        "Nesse gráfico deixamos apenas 1° a 4° série incompleta e 5° a 8° série incompleta em foco, pois ambos são os maiores picos de nosso gráfico. "
      ]
    },
    {
      "cell_type": "code",
      "metadata": {
        "colab": {
          "base_uri": "https://localhost:8080/"
        },
        "id": "3s-XNvDSgr9m",
        "outputId": "05d931c6-de6b-4132-9bd9-48e8798db912"
      },
      "source": [
        "evo_esco.T['1ª a 4ª série incompleta'].sort_values( ascending = False)\n",
        "#1998 = 8010\n",
        "#1998 = 1032\n",
        "#87,11%"
      ],
      "execution_count": 46,
      "outputs": [
        {
          "output_type": "execute_result",
          "data": {
            "text/plain": [
              "1998    8010\n",
              "1999    7434\n",
              "2000    7369\n",
              "2001    6149\n",
              "1997    5866\n",
              "1996    5104\n",
              "1995    4426\n",
              "2002    4415\n",
              "1994    4011\n",
              "2003    3785\n",
              "2004    3638\n",
              "1993    3514\n",
              "2005    3132\n",
              "1992    2903\n",
              "2006    2805\n",
              "2008    2575\n",
              "2007    2433\n",
              "2009    2406\n",
              "2011    2405\n",
              "2012    2384\n",
              "2010    2331\n",
              "2013    2251\n",
              "1991    2078\n",
              "2014    2060\n",
              "2015    1863\n",
              "1990    1585\n",
              "2016    1548\n",
              "2017    1342\n",
              "2018    1240\n",
              "1989    1050\n",
              "2019    1032\n",
              "1988     724\n",
              "1987     322\n",
              "1986      80\n",
              "1985      20\n",
              "1984       4\n",
              "1983       3\n",
              "1982       1\n",
              "1980       0\n",
              "Name: 1ª a 4ª série incompleta, dtype: int64"
            ]
          },
          "metadata": {
            "tags": []
          },
          "execution_count": 46
        }
      ]
    },
    {
      "cell_type": "code",
      "metadata": {
        "colab": {
          "base_uri": "https://localhost:8080/"
        },
        "id": "CTbEwv3vhApX",
        "outputId": "6445111c-865c-46ae-95ef-9698f181d796"
      },
      "source": [
        "evo_esco.T['5ª a 8ª série incompleta'].sort_values( ascending = False)\n",
        "#2003 = 8563\n",
        "#2019 = 2409\n",
        "#71.86%"
      ],
      "execution_count": 48,
      "outputs": [
        {
          "output_type": "execute_result",
          "data": {
            "text/plain": [
              "2003    8563\n",
              "2002    8233\n",
              "2004    8174\n",
              "2005    7572\n",
              "2001    7242\n",
              "1997    6924\n",
              "2006    6877\n",
              "2000    6828\n",
              "1998    6799\n",
              "1999    6225\n",
              "1996    5926\n",
              "2009    5301\n",
              "2013    5285\n",
              "2008    5279\n",
              "2011    5277\n",
              "2010    5263\n",
              "2012    5250\n",
              "2007    5242\n",
              "1995    5125\n",
              "2014    4649\n",
              "1994    4291\n",
              "1993    3961\n",
              "2015    3953\n",
              "2016    3570\n",
              "1992    3286\n",
              "2017    3275\n",
              "2018    2836\n",
              "1991    2428\n",
              "2019    2409\n",
              "1990    1732\n",
              "1989    1133\n",
              "1988     718\n",
              "1987     362\n",
              "1986     112\n",
              "1985      62\n",
              "1984      19\n",
              "1983       3\n",
              "1982       0\n",
              "1980       0\n",
              "Name: 5ª a 8ª série incompleta, dtype: int64"
            ]
          },
          "metadata": {
            "tags": []
          },
          "execution_count": 48
        }
      ]
    },
    {
      "cell_type": "markdown",
      "metadata": {
        "id": "e1YpFsv5gH8M"
      },
      "source": [
        "Podemos entender que o HIV atingiu em um certo período as pessoas que possuem uma baixa renda e pouco acesso a informação, mas veja que hoje essas pessoas com 1 a 8° série incompleta diagnosticada com HIV diminui drasticamente desde 1999, houve um decréscimo de **87,11%** de 1998 até 2019 em **1° a 4° série**. <br>\n",
        "Já na **5° a 8° série** houve decréscimo de **71,86%** de **2003 até 2019**"
      ]
    },
    {
      "cell_type": "markdown",
      "metadata": {
        "id": "3VRM9Z5Si4Ue"
      },
      "source": [
        "Um possível causa para esse decréscimo é o aumento dos jovens com ensino fundamental completo. "
      ]
    },
    {
      "cell_type": "markdown",
      "metadata": {
        "id": "bzDYz6vojPbX"
      },
      "source": [
        "<img src=\"https://github.com/JuniorTorresMTJ/Projeto_DeuPositivo/blob/main/image/jovens-de-16-anos-que-concluiram-o-ensino-fundamental-de-2012-a-2018.gif?raw=true\" alt=\"grafico\" />\n"
      ]
    },
    {
      "cell_type": "markdown",
      "metadata": {
        "id": "jRQ1fCaUluBe"
      },
      "source": [
        "Fonte : [Clique Aqui](https://g1.globo.com/educacao/noticia/2018/12/18/quase-4-em-cada-10-jovens-de-19-anos-nao-concluiram-o-ensino-medio-aponta-levantamento.ghtml)"
      ]
    },
    {
      "cell_type": "markdown",
      "metadata": {
        "id": "yn8EVfKdl2EY"
      },
      "source": [
        "Agora vamos verificar outras duas parcelas dos nossos dados que são relevantes no gráfico, sendo eles, fundamental completo e médio completo"
      ]
    },
    {
      "cell_type": "code",
      "metadata": {
        "colab": {
          "base_uri": "https://localhost:8080/",
          "height": 417
        },
        "id": "XBR9hlIfS06s",
        "outputId": "c9e66d34-9975-4549-c74e-754a02b426a8"
      },
      "source": [
        "colors5 = ['#d1cfcf','#d1cfcf','#d1cfcf','#b544ed','#43d3e0', '#d1cfcf']\n",
        "ax = evo_esco.T.plot(alpha=0.8, figsize =(15,6),color = colors5, marker = '.' )\n",
        "ax.grid(color='b', linestyle='-', linewidth=1, alpha = 0.1)\n",
        "plt.title(\"1980 até 2019\")\n",
        "plt.suptitle(\"Evolução dos casos de HIV por Escolaridade\", size=20, weight='bold' )\n",
        "ax.legend()\n",
        "plt.show()"
      ],
      "execution_count": 28,
      "outputs": [
        {
          "output_type": "display_data",
          "data": {
            "image/png": "[encoded data removed]",
            "text/plain": [
              "<Figure size 1080x432 with 1 Axes>"
            ]
          },
          "metadata": {
            "tags": []
          }
        }
      ]
    },
    {
      "cell_type": "markdown",
      "metadata": {
        "id": "WlEjC9xil_4h"
      },
      "source": [
        "Houve um grande aumento nos números de casos de pessoas que possuem o ensino médio, isso nos mostra que a conscientização nas escolas não estão sendo o suficiente, jovens estão saindo e não sabendo é o contágio da doença, não levando a sério, assim aumentando o número de dados. Precisamos passar a barreira e quebrar o tabú de falar de sexo e doenças sexualmente transmissíveis. "
      ]
    },
    {
      "cell_type": "markdown",
      "metadata": {
        "id": "HzZPo4wgmAgS"
      },
      "source": [
        "Outro possível motivo para o aumento no número de casos é a facilidade que o EJA (Educação de Jovens e Adultos) e outros supletivos traz mais facilidade para terminar o ensino médio em apenas 6 meses, assim aumentando o número  de pessoas que possuem o ensino médio completo, já que antes tinham menos pessoas formadas. "
      ]
    },
    {
      "cell_type": "markdown",
      "metadata": {
        "id": "4mVL7_7DmRjb"
      },
      "source": [
        "EJA é voltado a pessoas que não concluíram seus estudos na idade adequada e desejam uma alternativa prática para obter certificação de nível médio e poder ingressar em um curso técnico ou no Ensino Superior. Hoje por causa da pandemia, o curso é online e tem duração de três semestres. "
      ]
    },
    {
      "cell_type": "markdown",
      "metadata": {
        "id": "r3UovkyqmVCh"
      },
      "source": [
        "<img src=\"https://github.com/JuniorTorresMTJ/Projeto_DeuPositivo/blob/main/image/jovens-de-19-anos-que-concluiram-o-ensino-fundamental-de-2012-a-2018.gif?raw=true\" alt=\"grafico\" />\n"
      ]
    },
    {
      "cell_type": "markdown",
      "metadata": {
        "id": "9aibhBFLmhov"
      },
      "source": [
        "Fonte: [Clique Aqui](https://g1.globo.com/educacao/noticia/2018/12/18/quase-4-em-cada-10-jovens-de-19-anos-nao-concluiram-o-ensino-medio-aponta-levantamento.ghtml)"
      ]
    },
    {
      "cell_type": "markdown",
      "metadata": {
        "id": "4xt5mWVnm73c"
      },
      "source": [
        "Para saber mais:\n",
        "*   [EJA EAD](https://www.cps.sp.gov.br/ead/ensino-medio-eja-ead/#:~:text=O%20Ensino%20M%C3%A9dio%20a%20dist%C3%A2ncia,t%C3%A9cnico%20ou%20no%20Ensino%20Superior)\n",
        "*   [Cresce o número de jonos no ensino médio](https://www.educamaisbrasil.com.br/educacao/escolas/cresce-o-numero-de-jovens-no-ensino-medio-diz-pesquisa)\n",
        "\n"
      ]
    },
    {
      "cell_type": "markdown",
      "metadata": {
        "id": "YdHCXEF1EJxg"
      },
      "source": [
        "##HIPOTESE 5: Pessoas do sexo masculino adquirem mais HIV que pessoas do sexo feminino."
      ]
    },
    {
      "cell_type": "code",
      "metadata": {
        "id": "rylFDq9dEg4w"
      },
      "source": [
        "evo_sexo = df_sexo.set_index('Sexo')"
      ],
      "execution_count": 50,
      "outputs": []
    },
    {
      "cell_type": "code",
      "metadata": {
        "colab": {
          "base_uri": "https://localhost:8080/",
          "height": 417
        },
        "id": "8lH6X5qdS8Kp",
        "outputId": "8e5d6984-8be8-4626-93ef-7e338558d00d"
      },
      "source": [
        "colors4 = ['#264653','#b75bb7']\n",
        "ax = evo_sexo .T.plot(alpha=0.8, figsize =(15,6), color = colors4, marker = '.')\n",
        "ax.grid(color='b', linestyle='-', linewidth=1, alpha = 0.1)\n",
        "plt.title(\"1980 até 2019\")\n",
        "plt.suptitle(\"Evolução dos casos de HIV por Sexo\", size=20, weight='bold' )\n",
        "ax.legend()\n",
        "plt.show()"
      ],
      "execution_count": 51,
      "outputs": [
        {
          "output_type": "display_data",
          "data": {
            "image/png": "[encoded data removed]",
            "text/plain": [
              "<Figure size 1080x432 with 1 Axes>"
            ]
          },
          "metadata": {
            "tags": []
          }
        }
      ]
    },
    {
      "cell_type": "markdown",
      "metadata": {
        "id": "SmzIxQfonY5W"
      },
      "source": [
        "Vemos no gráfico que ambos os sexos possuem praticamente o mesmo comportamento, mas nos últimos anos os casos em mulheres houve mais queda do que entre os homens. "
      ]
    },
    {
      "cell_type": "markdown",
      "metadata": {
        "id": "wnLzuWJFnexV"
      },
      "source": [
        "Infelizmente, muitas mulheres pegam HIV/AIDS , por causa da traição, pois seus maridos  trazem as doenças de fora para casa, contaminando assim suas parceiras. "
      ]
    },
    {
      "cell_type": "markdown",
      "metadata": {
        "id": "uukraVbhng62"
      },
      "source": [
        "Veja:\n",
        "\n",
        "*  [Após contrair HIV do marido](http://g1.globo.com/se/sergipe/noticia/2013/09/apos-contrair-hiv-do-marido-mulher-abandona-dogmas-e-auxilia-doentes.html)\n",
        "\n",
        "*  [Mulheres com HIV](https://www.uol.com.br/universa/noticias/redacao/2018/12/01/ele-falou-que-quis-me-contaminar-historias-de-mulheres-com-hiv.htm)"
      ]
    },
    {
      "cell_type": "markdown",
      "metadata": {
        "id": "_4WTXuwzn4vl"
      },
      "source": [
        "A hipótese é verdadeira, desde 1980 os homens possuem mais casos de HIV que mulheres."
      ]
    },
    {
      "cell_type": "markdown",
      "metadata": {
        "id": "hOrundREEhKO"
      },
      "source": [
        "##HIPOTESE 6: Jovens de 20-34 anos são os que mais são contaminados pelos vírus do HIV."
      ]
    },
    {
      "cell_type": "code",
      "metadata": {
        "colab": {
          "base_uri": "https://localhost:8080/",
          "height": 417
        },
        "id": "U6EC1lL-FvJ2",
        "outputId": "0b1d83f6-f209-4dd5-e8ec-8c4eca2bf302"
      },
      "source": [
        "evo_etaria =  df_etária.set_index('Fx. Etária(SINAN)')\n",
        "colors4 = ['#264653','#95b8d1']\n",
        "ax = evo_etaria.T.plot(alpha=0.8, figsize =(15,6))\n",
        "ax.grid(color='b', linestyle='-', linewidth=1, alpha = 0.1)\n",
        "plt.title(\"1980 até 2019\")\n",
        "plt.suptitle(\"Evolução dos casos de HIV por Faixa Etária\", size=20, weight='bold' )\n",
        "ax.legend()\n",
        "plt.show()"
      ],
      "execution_count": 31,
      "outputs": [
        {
          "output_type": "display_data",
          "data": {
            "image/png": "[encoded data removed]",
            "text/plain": [
              "<Figure size 1080x432 with 1 Axes>"
            ]
          },
          "metadata": {
            "tags": []
          }
        }
      ]
    },
    {
      "cell_type": "markdown",
      "metadata": {
        "id": "zWuF8qnLFAxA"
      },
      "source": [
        "##HIPOTESE 7: Menos Pessoas morrem de AIDS comparando com a quantidade de óbitos em 2008.\n"
      ]
    },
    {
      "cell_type": "code",
      "metadata": {
        "colab": {
          "base_uri": "https://localhost:8080/",
          "height": 80
        },
        "id": "FzrwsJxjW4Nk",
        "outputId": "484948a0-f8ca-4e98-9d81-0ab89a30d06e"
      },
      "source": [
        " df_obitos"
      ],
      "execution_count": 32,
      "outputs": [
        {
          "output_type": "execute_result",
          "data": {
            "text/html": [
              "<div>\n",
              "<style scoped>\n",
              "    .dataframe tbody tr th:only-of-type {\n",
              "        vertical-align: middle;\n",
              "    }\n",
              "\n",
              "    .dataframe tbody tr th {\n",
              "        vertical-align: top;\n",
              "    }\n",
              "\n",
              "    .dataframe thead th {\n",
              "        text-align: right;\n",
              "    }\n",
              "</style>\n",
              "<table border=\"1\" class=\"dataframe\">\n",
              "  <thead>\n",
              "    <tr style=\"text-align: right;\">\n",
              "      <th></th>\n",
              "      <th>Forma organização</th>\n",
              "      <th>2008</th>\n",
              "      <th>2009</th>\n",
              "      <th>2010</th>\n",
              "      <th>2011</th>\n",
              "      <th>2012</th>\n",
              "      <th>2013</th>\n",
              "      <th>2014</th>\n",
              "      <th>2015</th>\n",
              "      <th>2016</th>\n",
              "      <th>2017</th>\n",
              "      <th>2018</th>\n",
              "      <th>2019</th>\n",
              "    </tr>\n",
              "  </thead>\n",
              "  <tbody>\n",
              "    <tr>\n",
              "      <th>0</th>\n",
              "      <td>030318 Tratamento HIV/Aids</td>\n",
              "      <td>4391</td>\n",
              "      <td>4902</td>\n",
              "      <td>4862</td>\n",
              "      <td>4411</td>\n",
              "      <td>4185</td>\n",
              "      <td>4303</td>\n",
              "      <td>4123</td>\n",
              "      <td>4131</td>\n",
              "      <td>3937</td>\n",
              "      <td>3492</td>\n",
              "      <td>3196</td>\n",
              "      <td>3058</td>\n",
              "    </tr>\n",
              "  </tbody>\n",
              "</table>\n",
              "</div>"
            ],
            "text/plain": [
              "            Forma organização  2008  2009  2010  ...  2016  2017  2018  2019\n",
              "0  030318 Tratamento HIV/Aids  4391  4902  4862  ...  3937  3492  3196  3058\n",
              "\n",
              "[1 rows x 13 columns]"
            ]
          },
          "metadata": {
            "tags": []
          },
          "execution_count": 32
        }
      ]
    },
    {
      "cell_type": "code",
      "metadata": {
        "id": "BaW7aDmPFbcK"
      },
      "source": [
        "evo_obt = df_obitos.set_index('Forma organização')"
      ],
      "execution_count": 33,
      "outputs": []
    },
    {
      "cell_type": "code",
      "metadata": {
        "colab": {
          "base_uri": "https://localhost:8080/",
          "height": 431
        },
        "id": "JL9NHTjOW8XT",
        "outputId": "96756b57-3a46-4505-b426-0c3b550350ec"
      },
      "source": [
        "ax = evo_obt.T.plot(kind = 'bar',  figsize =(15,6), alpha =0.7 , color = '#ea5242', legend = None)\n",
        "ax.grid(color='r', linestyle='-', linewidth=1, alpha = 0.1)\n",
        "plt.xticks(rotation=80)\n",
        "plt.title(\"2008 até 2019\")\n",
        "plt.suptitle(\"Quantidade de mortes no tratamento de HIV/AIDS por ano\", size=20, weight='bold' )\n",
        "\n",
        "plt.show()"
      ],
      "execution_count": 34,
      "outputs": [
        {
          "output_type": "display_data",
          "data": {
            "image/png": "[encoded data removed]",
            "text/plain": [
              "<Figure size 1080x432 with 1 Axes>"
            ]
          },
          "metadata": {
            "tags": []
          }
        }
      ]
    },
    {
      "cell_type": "markdown",
      "metadata": {
        "id": "nPydSNUSoOO_"
      },
      "source": [
        "Hipótese verdadeira, pois hoje o número de mortes é menor do que em 2008, pois houve uma diminuição de 30.35%, de 4391 em 2008 para 3058 em 2019"
      ]
    },
    {
      "cell_type": "markdown",
      "metadata": {
        "id": "NdXIn52DFbyw"
      },
      "source": [
        "##HIPOTESE 8: Os gastos com o Tratamento de HIV/AIDS diminuiram 20% desde 2008.\n"
      ]
    },
    {
      "cell_type": "code",
      "metadata": {
        "colab": {
          "base_uri": "https://localhost:8080/",
          "height": 151
        },
        "id": "zcO1bL4qY3ZW",
        "outputId": "46eefd40-2b51-46bc-fa05-833c05bbea23"
      },
      "source": [
        "df_gastos"
      ],
      "execution_count": 35,
      "outputs": [
        {
          "output_type": "execute_result",
          "data": {
            "text/html": [
              "<div>\n",
              "<style scoped>\n",
              "    .dataframe tbody tr th:only-of-type {\n",
              "        vertical-align: middle;\n",
              "    }\n",
              "\n",
              "    .dataframe tbody tr th {\n",
              "        vertical-align: top;\n",
              "    }\n",
              "\n",
              "    .dataframe thead th {\n",
              "        text-align: right;\n",
              "    }\n",
              "</style>\n",
              "<table border=\"1\" class=\"dataframe\">\n",
              "  <thead>\n",
              "    <tr style=\"text-align: right;\">\n",
              "      <th></th>\n",
              "      <th>Forma organização</th>\n",
              "      <th>2008</th>\n",
              "      <th>2009</th>\n",
              "      <th>2010</th>\n",
              "      <th>2011</th>\n",
              "      <th>2012</th>\n",
              "      <th>2013</th>\n",
              "      <th>2014</th>\n",
              "      <th>2015</th>\n",
              "      <th>2016</th>\n",
              "      <th>2017</th>\n",
              "      <th>2018</th>\n",
              "      <th>2019</th>\n",
              "    </tr>\n",
              "  </thead>\n",
              "  <tbody>\n",
              "    <tr>\n",
              "      <th>0</th>\n",
              "      <td>030318 Tratamento HIV/Aids</td>\n",
              "      <td>26726579.17</td>\n",
              "      <td>36039338.86</td>\n",
              "      <td>36710715.56</td>\n",
              "      <td>35262692.81</td>\n",
              "      <td>37223093.48</td>\n",
              "      <td>40041730.57</td>\n",
              "      <td>41020743.62</td>\n",
              "      <td>43036555.48</td>\n",
              "      <td>41889466.25</td>\n",
              "      <td>40896929.9</td>\n",
              "      <td>39745015.66</td>\n",
              "      <td>40481022.68</td>\n",
              "    </tr>\n",
              "  </tbody>\n",
              "</table>\n",
              "</div>"
            ],
            "text/plain": [
              "            Forma organização         2008  ...         2018         2019\n",
              "0  030318 Tratamento HIV/Aids  26726579.17  ...  39745015.66  40481022.68\n",
              "\n",
              "[1 rows x 13 columns]"
            ]
          },
          "metadata": {
            "tags": []
          },
          "execution_count": 35
        }
      ]
    },
    {
      "cell_type": "code",
      "metadata": {
        "id": "qqLbv_spY_aJ"
      },
      "source": [
        "evo_gastos = df_gastos.set_index('Forma organização')"
      ],
      "execution_count": 36,
      "outputs": []
    },
    {
      "cell_type": "code",
      "metadata": {
        "colab": {
          "base_uri": "https://localhost:8080/",
          "height": 417
        },
        "id": "eK0KF-rSZHzt",
        "outputId": "549d5614-594a-4aa4-b0c3-43cedc55c50f"
      },
      "source": [
        "ax = evo_gastos.T.plot(kind = 'area', alpha =0.5, legend = None, figsize =(15,6), color = '#42eacc')\n",
        "ax.yaxis.set_major_formatter(ticker.StrMethodFormatter('{x:,.0f}'))\n",
        "ax.grid(color='g', linestyle='-', linewidth=1, alpha = 0.1)\n",
        "plt.title(\"2008 até 2019\")\n",
        "plt.suptitle(\"Quantidade de gasto no tratamento de HIV/AIDS por ano\", size=20, weight='bold' )\n",
        "plt.show()\n",
        "\n"
      ],
      "execution_count": 37,
      "outputs": [
        {
          "output_type": "display_data",
          "data": {
            "image/png": "[encoded data removed]",
            "text/plain": [
              "<Figure size 1080x432 with 1 Axes>"
            ]
          },
          "metadata": {
            "tags": []
          }
        }
      ]
    },
    {
      "cell_type": "markdown",
      "metadata": {
        "id": "FUFqLr2YrFnm"
      },
      "source": [
        "Os gastão não houve diminuição, houve um aumento de mais de 30% e não houve queda nos ultimos anos, pois HIV/AIDS é para sempre, não há cura ainda, portanto não faz sentido a diminuição dos gastos."
      ]
    },
    {
      "cell_type": "markdown",
      "metadata": {
        "id": "zWPisrxSg61e"
      },
      "source": [
        "***\n",
        "#CONCLUSÃO\n",
        "\n",
        "***"
      ]
    }
  ]
}